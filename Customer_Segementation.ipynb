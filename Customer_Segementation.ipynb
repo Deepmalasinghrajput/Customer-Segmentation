{
 "cells": [
  {
   "cell_type": "code",
   "execution_count": 332,
   "id": "6ce1a272-c85b-4c19-bba3-79ad6862638b",
   "metadata": {},
   "outputs": [],
   "source": [
    "import pandas as pd \n",
    "import numpy as np\n",
    "import matplotlib.pyplot as plt\n",
    "import seaborn as sns"
   ]
  },
  {
   "cell_type": "code",
   "execution_count": 333,
   "id": "52dd7378",
   "metadata": {},
   "outputs": [],
   "source": [
    "df = pd.read_csv('customer_segmentation.csv')"
   ]
  },
  {
   "cell_type": "code",
   "execution_count": 334,
   "id": "c847bfc8",
   "metadata": {},
   "outputs": [
    {
     "data": {
      "text/html": [
       "<div>\n",
       "<style scoped>\n",
       "    .dataframe tbody tr th:only-of-type {\n",
       "        vertical-align: middle;\n",
       "    }\n",
       "\n",
       "    .dataframe tbody tr th {\n",
       "        vertical-align: top;\n",
       "    }\n",
       "\n",
       "    .dataframe thead th {\n",
       "        text-align: right;\n",
       "    }\n",
       "</style>\n",
       "<table border=\"1\" class=\"dataframe\">\n",
       "  <thead>\n",
       "    <tr style=\"text-align: right;\">\n",
       "      <th></th>\n",
       "      <th>ID</th>\n",
       "      <th>Year_Birth</th>\n",
       "      <th>Education</th>\n",
       "      <th>Marital_Status</th>\n",
       "      <th>Income</th>\n",
       "      <th>Kidhome</th>\n",
       "      <th>Teenhome</th>\n",
       "      <th>Dt_Customer</th>\n",
       "      <th>Recency</th>\n",
       "      <th>MntWines</th>\n",
       "      <th>...</th>\n",
       "      <th>NumWebVisitsMonth</th>\n",
       "      <th>AcceptedCmp3</th>\n",
       "      <th>AcceptedCmp4</th>\n",
       "      <th>AcceptedCmp5</th>\n",
       "      <th>AcceptedCmp1</th>\n",
       "      <th>AcceptedCmp2</th>\n",
       "      <th>Complain</th>\n",
       "      <th>Z_CostContact</th>\n",
       "      <th>Z_Revenue</th>\n",
       "      <th>Response</th>\n",
       "    </tr>\n",
       "  </thead>\n",
       "  <tbody>\n",
       "    <tr>\n",
       "      <th>0</th>\n",
       "      <td>5524</td>\n",
       "      <td>1957</td>\n",
       "      <td>Graduation</td>\n",
       "      <td>Single</td>\n",
       "      <td>58138.0</td>\n",
       "      <td>0</td>\n",
       "      <td>0</td>\n",
       "      <td>04-09-2012</td>\n",
       "      <td>58</td>\n",
       "      <td>635</td>\n",
       "      <td>...</td>\n",
       "      <td>7</td>\n",
       "      <td>0</td>\n",
       "      <td>0</td>\n",
       "      <td>0</td>\n",
       "      <td>0</td>\n",
       "      <td>0</td>\n",
       "      <td>0</td>\n",
       "      <td>3</td>\n",
       "      <td>11</td>\n",
       "      <td>1</td>\n",
       "    </tr>\n",
       "    <tr>\n",
       "      <th>1</th>\n",
       "      <td>2174</td>\n",
       "      <td>1954</td>\n",
       "      <td>Graduation</td>\n",
       "      <td>Single</td>\n",
       "      <td>46344.0</td>\n",
       "      <td>1</td>\n",
       "      <td>1</td>\n",
       "      <td>08-03-2014</td>\n",
       "      <td>38</td>\n",
       "      <td>11</td>\n",
       "      <td>...</td>\n",
       "      <td>5</td>\n",
       "      <td>0</td>\n",
       "      <td>0</td>\n",
       "      <td>0</td>\n",
       "      <td>0</td>\n",
       "      <td>0</td>\n",
       "      <td>0</td>\n",
       "      <td>3</td>\n",
       "      <td>11</td>\n",
       "      <td>0</td>\n",
       "    </tr>\n",
       "    <tr>\n",
       "      <th>2</th>\n",
       "      <td>4141</td>\n",
       "      <td>1965</td>\n",
       "      <td>Graduation</td>\n",
       "      <td>Together</td>\n",
       "      <td>71613.0</td>\n",
       "      <td>0</td>\n",
       "      <td>0</td>\n",
       "      <td>21-08-2013</td>\n",
       "      <td>26</td>\n",
       "      <td>426</td>\n",
       "      <td>...</td>\n",
       "      <td>4</td>\n",
       "      <td>0</td>\n",
       "      <td>0</td>\n",
       "      <td>0</td>\n",
       "      <td>0</td>\n",
       "      <td>0</td>\n",
       "      <td>0</td>\n",
       "      <td>3</td>\n",
       "      <td>11</td>\n",
       "      <td>0</td>\n",
       "    </tr>\n",
       "    <tr>\n",
       "      <th>3</th>\n",
       "      <td>6182</td>\n",
       "      <td>1984</td>\n",
       "      <td>Graduation</td>\n",
       "      <td>Together</td>\n",
       "      <td>26646.0</td>\n",
       "      <td>1</td>\n",
       "      <td>0</td>\n",
       "      <td>10-02-2014</td>\n",
       "      <td>26</td>\n",
       "      <td>11</td>\n",
       "      <td>...</td>\n",
       "      <td>6</td>\n",
       "      <td>0</td>\n",
       "      <td>0</td>\n",
       "      <td>0</td>\n",
       "      <td>0</td>\n",
       "      <td>0</td>\n",
       "      <td>0</td>\n",
       "      <td>3</td>\n",
       "      <td>11</td>\n",
       "      <td>0</td>\n",
       "    </tr>\n",
       "    <tr>\n",
       "      <th>4</th>\n",
       "      <td>5324</td>\n",
       "      <td>1981</td>\n",
       "      <td>PhD</td>\n",
       "      <td>Married</td>\n",
       "      <td>58293.0</td>\n",
       "      <td>1</td>\n",
       "      <td>0</td>\n",
       "      <td>19-01-2014</td>\n",
       "      <td>94</td>\n",
       "      <td>173</td>\n",
       "      <td>...</td>\n",
       "      <td>5</td>\n",
       "      <td>0</td>\n",
       "      <td>0</td>\n",
       "      <td>0</td>\n",
       "      <td>0</td>\n",
       "      <td>0</td>\n",
       "      <td>0</td>\n",
       "      <td>3</td>\n",
       "      <td>11</td>\n",
       "      <td>0</td>\n",
       "    </tr>\n",
       "    <tr>\n",
       "      <th>...</th>\n",
       "      <td>...</td>\n",
       "      <td>...</td>\n",
       "      <td>...</td>\n",
       "      <td>...</td>\n",
       "      <td>...</td>\n",
       "      <td>...</td>\n",
       "      <td>...</td>\n",
       "      <td>...</td>\n",
       "      <td>...</td>\n",
       "      <td>...</td>\n",
       "      <td>...</td>\n",
       "      <td>...</td>\n",
       "      <td>...</td>\n",
       "      <td>...</td>\n",
       "      <td>...</td>\n",
       "      <td>...</td>\n",
       "      <td>...</td>\n",
       "      <td>...</td>\n",
       "      <td>...</td>\n",
       "      <td>...</td>\n",
       "      <td>...</td>\n",
       "    </tr>\n",
       "    <tr>\n",
       "      <th>2235</th>\n",
       "      <td>10870</td>\n",
       "      <td>1967</td>\n",
       "      <td>Graduation</td>\n",
       "      <td>Married</td>\n",
       "      <td>61223.0</td>\n",
       "      <td>0</td>\n",
       "      <td>1</td>\n",
       "      <td>13-06-2013</td>\n",
       "      <td>46</td>\n",
       "      <td>709</td>\n",
       "      <td>...</td>\n",
       "      <td>5</td>\n",
       "      <td>0</td>\n",
       "      <td>0</td>\n",
       "      <td>0</td>\n",
       "      <td>0</td>\n",
       "      <td>0</td>\n",
       "      <td>0</td>\n",
       "      <td>3</td>\n",
       "      <td>11</td>\n",
       "      <td>0</td>\n",
       "    </tr>\n",
       "    <tr>\n",
       "      <th>2236</th>\n",
       "      <td>4001</td>\n",
       "      <td>1946</td>\n",
       "      <td>PhD</td>\n",
       "      <td>Together</td>\n",
       "      <td>64014.0</td>\n",
       "      <td>2</td>\n",
       "      <td>1</td>\n",
       "      <td>10-06-2014</td>\n",
       "      <td>56</td>\n",
       "      <td>406</td>\n",
       "      <td>...</td>\n",
       "      <td>7</td>\n",
       "      <td>0</td>\n",
       "      <td>0</td>\n",
       "      <td>0</td>\n",
       "      <td>1</td>\n",
       "      <td>0</td>\n",
       "      <td>0</td>\n",
       "      <td>3</td>\n",
       "      <td>11</td>\n",
       "      <td>0</td>\n",
       "    </tr>\n",
       "    <tr>\n",
       "      <th>2237</th>\n",
       "      <td>7270</td>\n",
       "      <td>1981</td>\n",
       "      <td>Graduation</td>\n",
       "      <td>Divorced</td>\n",
       "      <td>56981.0</td>\n",
       "      <td>0</td>\n",
       "      <td>0</td>\n",
       "      <td>25-01-2014</td>\n",
       "      <td>91</td>\n",
       "      <td>908</td>\n",
       "      <td>...</td>\n",
       "      <td>6</td>\n",
       "      <td>0</td>\n",
       "      <td>1</td>\n",
       "      <td>0</td>\n",
       "      <td>0</td>\n",
       "      <td>0</td>\n",
       "      <td>0</td>\n",
       "      <td>3</td>\n",
       "      <td>11</td>\n",
       "      <td>0</td>\n",
       "    </tr>\n",
       "    <tr>\n",
       "      <th>2238</th>\n",
       "      <td>8235</td>\n",
       "      <td>1956</td>\n",
       "      <td>Master</td>\n",
       "      <td>Together</td>\n",
       "      <td>69245.0</td>\n",
       "      <td>0</td>\n",
       "      <td>1</td>\n",
       "      <td>24-01-2014</td>\n",
       "      <td>8</td>\n",
       "      <td>428</td>\n",
       "      <td>...</td>\n",
       "      <td>3</td>\n",
       "      <td>0</td>\n",
       "      <td>0</td>\n",
       "      <td>0</td>\n",
       "      <td>0</td>\n",
       "      <td>0</td>\n",
       "      <td>0</td>\n",
       "      <td>3</td>\n",
       "      <td>11</td>\n",
       "      <td>0</td>\n",
       "    </tr>\n",
       "    <tr>\n",
       "      <th>2239</th>\n",
       "      <td>9405</td>\n",
       "      <td>1954</td>\n",
       "      <td>PhD</td>\n",
       "      <td>Married</td>\n",
       "      <td>52869.0</td>\n",
       "      <td>1</td>\n",
       "      <td>1</td>\n",
       "      <td>15-10-2012</td>\n",
       "      <td>40</td>\n",
       "      <td>84</td>\n",
       "      <td>...</td>\n",
       "      <td>7</td>\n",
       "      <td>0</td>\n",
       "      <td>0</td>\n",
       "      <td>0</td>\n",
       "      <td>0</td>\n",
       "      <td>0</td>\n",
       "      <td>0</td>\n",
       "      <td>3</td>\n",
       "      <td>11</td>\n",
       "      <td>1</td>\n",
       "    </tr>\n",
       "  </tbody>\n",
       "</table>\n",
       "<p>2240 rows × 29 columns</p>\n",
       "</div>"
      ],
      "text/plain": [
       "         ID  Year_Birth   Education Marital_Status   Income  Kidhome  \\\n",
       "0      5524        1957  Graduation         Single  58138.0        0   \n",
       "1      2174        1954  Graduation         Single  46344.0        1   \n",
       "2      4141        1965  Graduation       Together  71613.0        0   \n",
       "3      6182        1984  Graduation       Together  26646.0        1   \n",
       "4      5324        1981         PhD        Married  58293.0        1   \n",
       "...     ...         ...         ...            ...      ...      ...   \n",
       "2235  10870        1967  Graduation        Married  61223.0        0   \n",
       "2236   4001        1946         PhD       Together  64014.0        2   \n",
       "2237   7270        1981  Graduation       Divorced  56981.0        0   \n",
       "2238   8235        1956      Master       Together  69245.0        0   \n",
       "2239   9405        1954         PhD        Married  52869.0        1   \n",
       "\n",
       "      Teenhome Dt_Customer  Recency  MntWines  ...  NumWebVisitsMonth  \\\n",
       "0            0  04-09-2012       58       635  ...                  7   \n",
       "1            1  08-03-2014       38        11  ...                  5   \n",
       "2            0  21-08-2013       26       426  ...                  4   \n",
       "3            0  10-02-2014       26        11  ...                  6   \n",
       "4            0  19-01-2014       94       173  ...                  5   \n",
       "...        ...         ...      ...       ...  ...                ...   \n",
       "2235         1  13-06-2013       46       709  ...                  5   \n",
       "2236         1  10-06-2014       56       406  ...                  7   \n",
       "2237         0  25-01-2014       91       908  ...                  6   \n",
       "2238         1  24-01-2014        8       428  ...                  3   \n",
       "2239         1  15-10-2012       40        84  ...                  7   \n",
       "\n",
       "      AcceptedCmp3  AcceptedCmp4  AcceptedCmp5  AcceptedCmp1  AcceptedCmp2  \\\n",
       "0                0             0             0             0             0   \n",
       "1                0             0             0             0             0   \n",
       "2                0             0             0             0             0   \n",
       "3                0             0             0             0             0   \n",
       "4                0             0             0             0             0   \n",
       "...            ...           ...           ...           ...           ...   \n",
       "2235             0             0             0             0             0   \n",
       "2236             0             0             0             1             0   \n",
       "2237             0             1             0             0             0   \n",
       "2238             0             0             0             0             0   \n",
       "2239             0             0             0             0             0   \n",
       "\n",
       "      Complain  Z_CostContact  Z_Revenue  Response  \n",
       "0            0              3         11         1  \n",
       "1            0              3         11         0  \n",
       "2            0              3         11         0  \n",
       "3            0              3         11         0  \n",
       "4            0              3         11         0  \n",
       "...        ...            ...        ...       ...  \n",
       "2235         0              3         11         0  \n",
       "2236         0              3         11         0  \n",
       "2237         0              3         11         0  \n",
       "2238         0              3         11         0  \n",
       "2239         0              3         11         1  \n",
       "\n",
       "[2240 rows x 29 columns]"
      ]
     },
     "execution_count": 334,
     "metadata": {},
     "output_type": "execute_result"
    }
   ],
   "source": [
    "df"
   ]
  },
  {
   "cell_type": "code",
   "execution_count": 335,
   "id": "bbc67e9e",
   "metadata": {},
   "outputs": [
    {
     "data": {
      "text/plain": [
       "Index(['ID', 'Year_Birth', 'Education', 'Marital_Status', 'Income', 'Kidhome',\n",
       "       'Teenhome', 'Dt_Customer', 'Recency', 'MntWines', 'MntFruits',\n",
       "       'MntMeatProducts', 'MntFishProducts', 'MntSweetProducts',\n",
       "       'MntGoldProds', 'NumDealsPurchases', 'NumWebPurchases',\n",
       "       'NumCatalogPurchases', 'NumStorePurchases', 'NumWebVisitsMonth',\n",
       "       'AcceptedCmp3', 'AcceptedCmp4', 'AcceptedCmp5', 'AcceptedCmp1',\n",
       "       'AcceptedCmp2', 'Complain', 'Z_CostContact', 'Z_Revenue', 'Response'],\n",
       "      dtype='object')"
      ]
     },
     "execution_count": 335,
     "metadata": {},
     "output_type": "execute_result"
    }
   ],
   "source": [
    "df.columns"
   ]
  },
  {
   "cell_type": "code",
   "execution_count": 336,
   "id": "8833ddc3",
   "metadata": {},
   "outputs": [
    {
     "data": {
      "text/plain": [
       "(2240, 29)"
      ]
     },
     "execution_count": 336,
     "metadata": {},
     "output_type": "execute_result"
    }
   ],
   "source": [
    "df.shape"
   ]
  },
  {
   "cell_type": "code",
   "execution_count": 337,
   "id": "d5abeea1",
   "metadata": {},
   "outputs": [
    {
     "name": "stdout",
     "output_type": "stream",
     "text": [
      "<class 'pandas.core.frame.DataFrame'>\n",
      "RangeIndex: 2240 entries, 0 to 2239\n",
      "Data columns (total 29 columns):\n",
      " #   Column               Non-Null Count  Dtype  \n",
      "---  ------               --------------  -----  \n",
      " 0   ID                   2240 non-null   int64  \n",
      " 1   Year_Birth           2240 non-null   int64  \n",
      " 2   Education            2240 non-null   object \n",
      " 3   Marital_Status       2240 non-null   object \n",
      " 4   Income               2216 non-null   float64\n",
      " 5   Kidhome              2240 non-null   int64  \n",
      " 6   Teenhome             2240 non-null   int64  \n",
      " 7   Dt_Customer          2240 non-null   object \n",
      " 8   Recency              2240 non-null   int64  \n",
      " 9   MntWines             2240 non-null   int64  \n",
      " 10  MntFruits            2240 non-null   int64  \n",
      " 11  MntMeatProducts      2240 non-null   int64  \n",
      " 12  MntFishProducts      2240 non-null   int64  \n",
      " 13  MntSweetProducts     2240 non-null   int64  \n",
      " 14  MntGoldProds         2240 non-null   int64  \n",
      " 15  NumDealsPurchases    2240 non-null   int64  \n",
      " 16  NumWebPurchases      2240 non-null   int64  \n",
      " 17  NumCatalogPurchases  2240 non-null   int64  \n",
      " 18  NumStorePurchases    2240 non-null   int64  \n",
      " 19  NumWebVisitsMonth    2240 non-null   int64  \n",
      " 20  AcceptedCmp3         2240 non-null   int64  \n",
      " 21  AcceptedCmp4         2240 non-null   int64  \n",
      " 22  AcceptedCmp5         2240 non-null   int64  \n",
      " 23  AcceptedCmp1         2240 non-null   int64  \n",
      " 24  AcceptedCmp2         2240 non-null   int64  \n",
      " 25  Complain             2240 non-null   int64  \n",
      " 26  Z_CostContact        2240 non-null   int64  \n",
      " 27  Z_Revenue            2240 non-null   int64  \n",
      " 28  Response             2240 non-null   int64  \n",
      "dtypes: float64(1), int64(25), object(3)\n",
      "memory usage: 507.6+ KB\n"
     ]
    }
   ],
   "source": [
    "df.info()"
   ]
  },
  {
   "cell_type": "code",
   "execution_count": 338,
   "id": "7a890cc7",
   "metadata": {},
   "outputs": [
    {
     "data": {
      "text/plain": [
       "np.int64(24)"
      ]
     },
     "execution_count": 338,
     "metadata": {},
     "output_type": "execute_result"
    }
   ],
   "source": [
    "df.isna().sum().sum()"
   ]
  },
  {
   "cell_type": "code",
   "execution_count": 339,
   "id": "ad31782b",
   "metadata": {},
   "outputs": [],
   "source": [
    "df.dropna( inplace = True)"
   ]
  },
  {
   "cell_type": "code",
   "execution_count": 340,
   "id": "e181bc0a",
   "metadata": {},
   "outputs": [
    {
     "data": {
      "text/plain": [
       "np.int64(0)"
      ]
     },
     "execution_count": 340,
     "metadata": {},
     "output_type": "execute_result"
    }
   ],
   "source": [
    "df.isna().sum().sum()"
   ]
  },
  {
   "cell_type": "code",
   "execution_count": 341,
   "id": "420e5a90",
   "metadata": {},
   "outputs": [
    {
     "data": {
      "text/html": [
       "<div>\n",
       "<style scoped>\n",
       "    .dataframe tbody tr th:only-of-type {\n",
       "        vertical-align: middle;\n",
       "    }\n",
       "\n",
       "    .dataframe tbody tr th {\n",
       "        vertical-align: top;\n",
       "    }\n",
       "\n",
       "    .dataframe thead th {\n",
       "        text-align: right;\n",
       "    }\n",
       "</style>\n",
       "<table border=\"1\" class=\"dataframe\">\n",
       "  <thead>\n",
       "    <tr style=\"text-align: right;\">\n",
       "      <th></th>\n",
       "      <th>ID</th>\n",
       "      <th>Year_Birth</th>\n",
       "      <th>Income</th>\n",
       "      <th>Kidhome</th>\n",
       "      <th>Teenhome</th>\n",
       "      <th>Recency</th>\n",
       "      <th>MntWines</th>\n",
       "      <th>MntFruits</th>\n",
       "      <th>MntMeatProducts</th>\n",
       "      <th>MntFishProducts</th>\n",
       "      <th>...</th>\n",
       "      <th>NumWebVisitsMonth</th>\n",
       "      <th>AcceptedCmp3</th>\n",
       "      <th>AcceptedCmp4</th>\n",
       "      <th>AcceptedCmp5</th>\n",
       "      <th>AcceptedCmp1</th>\n",
       "      <th>AcceptedCmp2</th>\n",
       "      <th>Complain</th>\n",
       "      <th>Z_CostContact</th>\n",
       "      <th>Z_Revenue</th>\n",
       "      <th>Response</th>\n",
       "    </tr>\n",
       "  </thead>\n",
       "  <tbody>\n",
       "    <tr>\n",
       "      <th>count</th>\n",
       "      <td>2216.000000</td>\n",
       "      <td>2216.000000</td>\n",
       "      <td>2216.000000</td>\n",
       "      <td>2216.000000</td>\n",
       "      <td>2216.000000</td>\n",
       "      <td>2216.000000</td>\n",
       "      <td>2216.000000</td>\n",
       "      <td>2216.000000</td>\n",
       "      <td>2216.000000</td>\n",
       "      <td>2216.000000</td>\n",
       "      <td>...</td>\n",
       "      <td>2216.000000</td>\n",
       "      <td>2216.000000</td>\n",
       "      <td>2216.000000</td>\n",
       "      <td>2216.000000</td>\n",
       "      <td>2216.000000</td>\n",
       "      <td>2216.000000</td>\n",
       "      <td>2216.000000</td>\n",
       "      <td>2216.0</td>\n",
       "      <td>2216.0</td>\n",
       "      <td>2216.000000</td>\n",
       "    </tr>\n",
       "    <tr>\n",
       "      <th>mean</th>\n",
       "      <td>5588.353339</td>\n",
       "      <td>1968.820397</td>\n",
       "      <td>52247.251354</td>\n",
       "      <td>0.441787</td>\n",
       "      <td>0.505415</td>\n",
       "      <td>49.012635</td>\n",
       "      <td>305.091606</td>\n",
       "      <td>26.356047</td>\n",
       "      <td>166.995939</td>\n",
       "      <td>37.637635</td>\n",
       "      <td>...</td>\n",
       "      <td>5.319043</td>\n",
       "      <td>0.073556</td>\n",
       "      <td>0.074007</td>\n",
       "      <td>0.073105</td>\n",
       "      <td>0.064079</td>\n",
       "      <td>0.013538</td>\n",
       "      <td>0.009477</td>\n",
       "      <td>3.0</td>\n",
       "      <td>11.0</td>\n",
       "      <td>0.150271</td>\n",
       "    </tr>\n",
       "    <tr>\n",
       "      <th>std</th>\n",
       "      <td>3249.376275</td>\n",
       "      <td>11.985554</td>\n",
       "      <td>25173.076661</td>\n",
       "      <td>0.536896</td>\n",
       "      <td>0.544181</td>\n",
       "      <td>28.948352</td>\n",
       "      <td>337.327920</td>\n",
       "      <td>39.793917</td>\n",
       "      <td>224.283273</td>\n",
       "      <td>54.752082</td>\n",
       "      <td>...</td>\n",
       "      <td>2.425359</td>\n",
       "      <td>0.261106</td>\n",
       "      <td>0.261842</td>\n",
       "      <td>0.260367</td>\n",
       "      <td>0.244950</td>\n",
       "      <td>0.115588</td>\n",
       "      <td>0.096907</td>\n",
       "      <td>0.0</td>\n",
       "      <td>0.0</td>\n",
       "      <td>0.357417</td>\n",
       "    </tr>\n",
       "    <tr>\n",
       "      <th>min</th>\n",
       "      <td>0.000000</td>\n",
       "      <td>1893.000000</td>\n",
       "      <td>1730.000000</td>\n",
       "      <td>0.000000</td>\n",
       "      <td>0.000000</td>\n",
       "      <td>0.000000</td>\n",
       "      <td>0.000000</td>\n",
       "      <td>0.000000</td>\n",
       "      <td>0.000000</td>\n",
       "      <td>0.000000</td>\n",
       "      <td>...</td>\n",
       "      <td>0.000000</td>\n",
       "      <td>0.000000</td>\n",
       "      <td>0.000000</td>\n",
       "      <td>0.000000</td>\n",
       "      <td>0.000000</td>\n",
       "      <td>0.000000</td>\n",
       "      <td>0.000000</td>\n",
       "      <td>3.0</td>\n",
       "      <td>11.0</td>\n",
       "      <td>0.000000</td>\n",
       "    </tr>\n",
       "    <tr>\n",
       "      <th>25%</th>\n",
       "      <td>2814.750000</td>\n",
       "      <td>1959.000000</td>\n",
       "      <td>35303.000000</td>\n",
       "      <td>0.000000</td>\n",
       "      <td>0.000000</td>\n",
       "      <td>24.000000</td>\n",
       "      <td>24.000000</td>\n",
       "      <td>2.000000</td>\n",
       "      <td>16.000000</td>\n",
       "      <td>3.000000</td>\n",
       "      <td>...</td>\n",
       "      <td>3.000000</td>\n",
       "      <td>0.000000</td>\n",
       "      <td>0.000000</td>\n",
       "      <td>0.000000</td>\n",
       "      <td>0.000000</td>\n",
       "      <td>0.000000</td>\n",
       "      <td>0.000000</td>\n",
       "      <td>3.0</td>\n",
       "      <td>11.0</td>\n",
       "      <td>0.000000</td>\n",
       "    </tr>\n",
       "    <tr>\n",
       "      <th>50%</th>\n",
       "      <td>5458.500000</td>\n",
       "      <td>1970.000000</td>\n",
       "      <td>51381.500000</td>\n",
       "      <td>0.000000</td>\n",
       "      <td>0.000000</td>\n",
       "      <td>49.000000</td>\n",
       "      <td>174.500000</td>\n",
       "      <td>8.000000</td>\n",
       "      <td>68.000000</td>\n",
       "      <td>12.000000</td>\n",
       "      <td>...</td>\n",
       "      <td>6.000000</td>\n",
       "      <td>0.000000</td>\n",
       "      <td>0.000000</td>\n",
       "      <td>0.000000</td>\n",
       "      <td>0.000000</td>\n",
       "      <td>0.000000</td>\n",
       "      <td>0.000000</td>\n",
       "      <td>3.0</td>\n",
       "      <td>11.0</td>\n",
       "      <td>0.000000</td>\n",
       "    </tr>\n",
       "    <tr>\n",
       "      <th>75%</th>\n",
       "      <td>8421.750000</td>\n",
       "      <td>1977.000000</td>\n",
       "      <td>68522.000000</td>\n",
       "      <td>1.000000</td>\n",
       "      <td>1.000000</td>\n",
       "      <td>74.000000</td>\n",
       "      <td>505.000000</td>\n",
       "      <td>33.000000</td>\n",
       "      <td>232.250000</td>\n",
       "      <td>50.000000</td>\n",
       "      <td>...</td>\n",
       "      <td>7.000000</td>\n",
       "      <td>0.000000</td>\n",
       "      <td>0.000000</td>\n",
       "      <td>0.000000</td>\n",
       "      <td>0.000000</td>\n",
       "      <td>0.000000</td>\n",
       "      <td>0.000000</td>\n",
       "      <td>3.0</td>\n",
       "      <td>11.0</td>\n",
       "      <td>0.000000</td>\n",
       "    </tr>\n",
       "    <tr>\n",
       "      <th>max</th>\n",
       "      <td>11191.000000</td>\n",
       "      <td>1996.000000</td>\n",
       "      <td>666666.000000</td>\n",
       "      <td>2.000000</td>\n",
       "      <td>2.000000</td>\n",
       "      <td>99.000000</td>\n",
       "      <td>1493.000000</td>\n",
       "      <td>199.000000</td>\n",
       "      <td>1725.000000</td>\n",
       "      <td>259.000000</td>\n",
       "      <td>...</td>\n",
       "      <td>20.000000</td>\n",
       "      <td>1.000000</td>\n",
       "      <td>1.000000</td>\n",
       "      <td>1.000000</td>\n",
       "      <td>1.000000</td>\n",
       "      <td>1.000000</td>\n",
       "      <td>1.000000</td>\n",
       "      <td>3.0</td>\n",
       "      <td>11.0</td>\n",
       "      <td>1.000000</td>\n",
       "    </tr>\n",
       "  </tbody>\n",
       "</table>\n",
       "<p>8 rows × 26 columns</p>\n",
       "</div>"
      ],
      "text/plain": [
       "                 ID   Year_Birth         Income      Kidhome     Teenhome  \\\n",
       "count   2216.000000  2216.000000    2216.000000  2216.000000  2216.000000   \n",
       "mean    5588.353339  1968.820397   52247.251354     0.441787     0.505415   \n",
       "std     3249.376275    11.985554   25173.076661     0.536896     0.544181   \n",
       "min        0.000000  1893.000000    1730.000000     0.000000     0.000000   \n",
       "25%     2814.750000  1959.000000   35303.000000     0.000000     0.000000   \n",
       "50%     5458.500000  1970.000000   51381.500000     0.000000     0.000000   \n",
       "75%     8421.750000  1977.000000   68522.000000     1.000000     1.000000   \n",
       "max    11191.000000  1996.000000  666666.000000     2.000000     2.000000   \n",
       "\n",
       "           Recency     MntWines    MntFruits  MntMeatProducts  \\\n",
       "count  2216.000000  2216.000000  2216.000000      2216.000000   \n",
       "mean     49.012635   305.091606    26.356047       166.995939   \n",
       "std      28.948352   337.327920    39.793917       224.283273   \n",
       "min       0.000000     0.000000     0.000000         0.000000   \n",
       "25%      24.000000    24.000000     2.000000        16.000000   \n",
       "50%      49.000000   174.500000     8.000000        68.000000   \n",
       "75%      74.000000   505.000000    33.000000       232.250000   \n",
       "max      99.000000  1493.000000   199.000000      1725.000000   \n",
       "\n",
       "       MntFishProducts  ...  NumWebVisitsMonth  AcceptedCmp3  AcceptedCmp4  \\\n",
       "count      2216.000000  ...        2216.000000   2216.000000   2216.000000   \n",
       "mean         37.637635  ...           5.319043      0.073556      0.074007   \n",
       "std          54.752082  ...           2.425359      0.261106      0.261842   \n",
       "min           0.000000  ...           0.000000      0.000000      0.000000   \n",
       "25%           3.000000  ...           3.000000      0.000000      0.000000   \n",
       "50%          12.000000  ...           6.000000      0.000000      0.000000   \n",
       "75%          50.000000  ...           7.000000      0.000000      0.000000   \n",
       "max         259.000000  ...          20.000000      1.000000      1.000000   \n",
       "\n",
       "       AcceptedCmp5  AcceptedCmp1  AcceptedCmp2     Complain  Z_CostContact  \\\n",
       "count   2216.000000   2216.000000   2216.000000  2216.000000         2216.0   \n",
       "mean       0.073105      0.064079      0.013538     0.009477            3.0   \n",
       "std        0.260367      0.244950      0.115588     0.096907            0.0   \n",
       "min        0.000000      0.000000      0.000000     0.000000            3.0   \n",
       "25%        0.000000      0.000000      0.000000     0.000000            3.0   \n",
       "50%        0.000000      0.000000      0.000000     0.000000            3.0   \n",
       "75%        0.000000      0.000000      0.000000     0.000000            3.0   \n",
       "max        1.000000      1.000000      1.000000     1.000000            3.0   \n",
       "\n",
       "       Z_Revenue     Response  \n",
       "count     2216.0  2216.000000  \n",
       "mean        11.0     0.150271  \n",
       "std          0.0     0.357417  \n",
       "min         11.0     0.000000  \n",
       "25%         11.0     0.000000  \n",
       "50%         11.0     0.000000  \n",
       "75%         11.0     0.000000  \n",
       "max         11.0     1.000000  \n",
       "\n",
       "[8 rows x 26 columns]"
      ]
     },
     "execution_count": 341,
     "metadata": {},
     "output_type": "execute_result"
    }
   ],
   "source": [
    "df.describe()"
   ]
  },
  {
   "cell_type": "code",
   "execution_count": 342,
   "id": "ce007d15",
   "metadata": {},
   "outputs": [
    {
     "data": {
      "text/plain": [
       "Education\n",
       "Graduation    1116\n",
       "PhD            481\n",
       "Master         365\n",
       "2n Cycle       200\n",
       "Basic           54\n",
       "Name: count, dtype: int64"
      ]
     },
     "execution_count": 342,
     "metadata": {},
     "output_type": "execute_result"
    }
   ],
   "source": [
    "df['Education'].value_counts()"
   ]
  },
  {
   "cell_type": "code",
   "execution_count": 343,
   "id": "0a0528de",
   "metadata": {},
   "outputs": [
    {
     "data": {
      "text/plain": [
       "Marital_Status\n",
       "Married     857\n",
       "Together    573\n",
       "Single      471\n",
       "Divorced    232\n",
       "Widow        76\n",
       "Alone         3\n",
       "Absurd        2\n",
       "YOLO          2\n",
       "Name: count, dtype: int64"
      ]
     },
     "execution_count": 343,
     "metadata": {},
     "output_type": "execute_result"
    }
   ],
   "source": [
    "df['Marital_Status'].value_counts()"
   ]
  },
  {
   "cell_type": "code",
   "execution_count": 344,
   "id": "8bc2757d",
   "metadata": {},
   "outputs": [],
   "source": [
    "df['Dt_Customer'] = pd.to_datetime(df['Dt_Customer'], dayfirst=True)\n"
   ]
  },
  {
   "cell_type": "code",
   "execution_count": 345,
   "id": "b538e6f8",
   "metadata": {},
   "outputs": [
    {
     "name": "stdout",
     "output_type": "stream",
     "text": [
      "<class 'pandas.core.frame.DataFrame'>\n",
      "Index: 2216 entries, 0 to 2239\n",
      "Data columns (total 29 columns):\n",
      " #   Column               Non-Null Count  Dtype         \n",
      "---  ------               --------------  -----         \n",
      " 0   ID                   2216 non-null   int64         \n",
      " 1   Year_Birth           2216 non-null   int64         \n",
      " 2   Education            2216 non-null   object        \n",
      " 3   Marital_Status       2216 non-null   object        \n",
      " 4   Income               2216 non-null   float64       \n",
      " 5   Kidhome              2216 non-null   int64         \n",
      " 6   Teenhome             2216 non-null   int64         \n",
      " 7   Dt_Customer          2216 non-null   datetime64[ns]\n",
      " 8   Recency              2216 non-null   int64         \n",
      " 9   MntWines             2216 non-null   int64         \n",
      " 10  MntFruits            2216 non-null   int64         \n",
      " 11  MntMeatProducts      2216 non-null   int64         \n",
      " 12  MntFishProducts      2216 non-null   int64         \n",
      " 13  MntSweetProducts     2216 non-null   int64         \n",
      " 14  MntGoldProds         2216 non-null   int64         \n",
      " 15  NumDealsPurchases    2216 non-null   int64         \n",
      " 16  NumWebPurchases      2216 non-null   int64         \n",
      " 17  NumCatalogPurchases  2216 non-null   int64         \n",
      " 18  NumStorePurchases    2216 non-null   int64         \n",
      " 19  NumWebVisitsMonth    2216 non-null   int64         \n",
      " 20  AcceptedCmp3         2216 non-null   int64         \n",
      " 21  AcceptedCmp4         2216 non-null   int64         \n",
      " 22  AcceptedCmp5         2216 non-null   int64         \n",
      " 23  AcceptedCmp1         2216 non-null   int64         \n",
      " 24  AcceptedCmp2         2216 non-null   int64         \n",
      " 25  Complain             2216 non-null   int64         \n",
      " 26  Z_CostContact        2216 non-null   int64         \n",
      " 27  Z_Revenue            2216 non-null   int64         \n",
      " 28  Response             2216 non-null   int64         \n",
      "dtypes: datetime64[ns](1), float64(1), int64(25), object(2)\n",
      "memory usage: 519.4+ KB\n"
     ]
    }
   ],
   "source": [
    "df.info()"
   ]
  },
  {
   "cell_type": "code",
   "execution_count": 346,
   "id": "c98965e4",
   "metadata": {},
   "outputs": [],
   "source": [
    "df['Age'] = 2025 - df['Year_Birth']"
   ]
  },
  {
   "cell_type": "code",
   "execution_count": 347,
   "id": "b984d298",
   "metadata": {},
   "outputs": [
    {
     "data": {
      "text/plain": [
       "0       68\n",
       "1       71\n",
       "2       60\n",
       "3       41\n",
       "4       44\n",
       "        ..\n",
       "2235    58\n",
       "2236    79\n",
       "2237    44\n",
       "2238    69\n",
       "2239    71\n",
       "Name: Age, Length: 2216, dtype: int64"
      ]
     },
     "execution_count": 347,
     "metadata": {},
     "output_type": "execute_result"
    }
   ],
   "source": [
    "df['Age']"
   ]
  },
  {
   "cell_type": "code",
   "execution_count": 348,
   "id": "1e5443e6",
   "metadata": {},
   "outputs": [
    {
     "data": {
      "text/html": [
       "<div>\n",
       "<style scoped>\n",
       "    .dataframe tbody tr th:only-of-type {\n",
       "        vertical-align: middle;\n",
       "    }\n",
       "\n",
       "    .dataframe tbody tr th {\n",
       "        vertical-align: top;\n",
       "    }\n",
       "\n",
       "    .dataframe thead th {\n",
       "        text-align: right;\n",
       "    }\n",
       "</style>\n",
       "<table border=\"1\" class=\"dataframe\">\n",
       "  <thead>\n",
       "    <tr style=\"text-align: right;\">\n",
       "      <th></th>\n",
       "      <th>ID</th>\n",
       "      <th>Year_Birth</th>\n",
       "      <th>Education</th>\n",
       "      <th>Marital_Status</th>\n",
       "      <th>Income</th>\n",
       "      <th>Kidhome</th>\n",
       "      <th>Teenhome</th>\n",
       "      <th>Dt_Customer</th>\n",
       "      <th>Recency</th>\n",
       "      <th>MntWines</th>\n",
       "      <th>...</th>\n",
       "      <th>AcceptedCmp3</th>\n",
       "      <th>AcceptedCmp4</th>\n",
       "      <th>AcceptedCmp5</th>\n",
       "      <th>AcceptedCmp1</th>\n",
       "      <th>AcceptedCmp2</th>\n",
       "      <th>Complain</th>\n",
       "      <th>Z_CostContact</th>\n",
       "      <th>Z_Revenue</th>\n",
       "      <th>Response</th>\n",
       "      <th>Age</th>\n",
       "    </tr>\n",
       "  </thead>\n",
       "  <tbody>\n",
       "    <tr>\n",
       "      <th>0</th>\n",
       "      <td>5524</td>\n",
       "      <td>1957</td>\n",
       "      <td>Graduation</td>\n",
       "      <td>Single</td>\n",
       "      <td>58138.0</td>\n",
       "      <td>0</td>\n",
       "      <td>0</td>\n",
       "      <td>2012-09-04</td>\n",
       "      <td>58</td>\n",
       "      <td>635</td>\n",
       "      <td>...</td>\n",
       "      <td>0</td>\n",
       "      <td>0</td>\n",
       "      <td>0</td>\n",
       "      <td>0</td>\n",
       "      <td>0</td>\n",
       "      <td>0</td>\n",
       "      <td>3</td>\n",
       "      <td>11</td>\n",
       "      <td>1</td>\n",
       "      <td>68</td>\n",
       "    </tr>\n",
       "    <tr>\n",
       "      <th>1</th>\n",
       "      <td>2174</td>\n",
       "      <td>1954</td>\n",
       "      <td>Graduation</td>\n",
       "      <td>Single</td>\n",
       "      <td>46344.0</td>\n",
       "      <td>1</td>\n",
       "      <td>1</td>\n",
       "      <td>2014-03-08</td>\n",
       "      <td>38</td>\n",
       "      <td>11</td>\n",
       "      <td>...</td>\n",
       "      <td>0</td>\n",
       "      <td>0</td>\n",
       "      <td>0</td>\n",
       "      <td>0</td>\n",
       "      <td>0</td>\n",
       "      <td>0</td>\n",
       "      <td>3</td>\n",
       "      <td>11</td>\n",
       "      <td>0</td>\n",
       "      <td>71</td>\n",
       "    </tr>\n",
       "    <tr>\n",
       "      <th>2</th>\n",
       "      <td>4141</td>\n",
       "      <td>1965</td>\n",
       "      <td>Graduation</td>\n",
       "      <td>Together</td>\n",
       "      <td>71613.0</td>\n",
       "      <td>0</td>\n",
       "      <td>0</td>\n",
       "      <td>2013-08-21</td>\n",
       "      <td>26</td>\n",
       "      <td>426</td>\n",
       "      <td>...</td>\n",
       "      <td>0</td>\n",
       "      <td>0</td>\n",
       "      <td>0</td>\n",
       "      <td>0</td>\n",
       "      <td>0</td>\n",
       "      <td>0</td>\n",
       "      <td>3</td>\n",
       "      <td>11</td>\n",
       "      <td>0</td>\n",
       "      <td>60</td>\n",
       "    </tr>\n",
       "    <tr>\n",
       "      <th>3</th>\n",
       "      <td>6182</td>\n",
       "      <td>1984</td>\n",
       "      <td>Graduation</td>\n",
       "      <td>Together</td>\n",
       "      <td>26646.0</td>\n",
       "      <td>1</td>\n",
       "      <td>0</td>\n",
       "      <td>2014-02-10</td>\n",
       "      <td>26</td>\n",
       "      <td>11</td>\n",
       "      <td>...</td>\n",
       "      <td>0</td>\n",
       "      <td>0</td>\n",
       "      <td>0</td>\n",
       "      <td>0</td>\n",
       "      <td>0</td>\n",
       "      <td>0</td>\n",
       "      <td>3</td>\n",
       "      <td>11</td>\n",
       "      <td>0</td>\n",
       "      <td>41</td>\n",
       "    </tr>\n",
       "    <tr>\n",
       "      <th>4</th>\n",
       "      <td>5324</td>\n",
       "      <td>1981</td>\n",
       "      <td>PhD</td>\n",
       "      <td>Married</td>\n",
       "      <td>58293.0</td>\n",
       "      <td>1</td>\n",
       "      <td>0</td>\n",
       "      <td>2014-01-19</td>\n",
       "      <td>94</td>\n",
       "      <td>173</td>\n",
       "      <td>...</td>\n",
       "      <td>0</td>\n",
       "      <td>0</td>\n",
       "      <td>0</td>\n",
       "      <td>0</td>\n",
       "      <td>0</td>\n",
       "      <td>0</td>\n",
       "      <td>3</td>\n",
       "      <td>11</td>\n",
       "      <td>0</td>\n",
       "      <td>44</td>\n",
       "    </tr>\n",
       "  </tbody>\n",
       "</table>\n",
       "<p>5 rows × 30 columns</p>\n",
       "</div>"
      ],
      "text/plain": [
       "     ID  Year_Birth   Education Marital_Status   Income  Kidhome  Teenhome  \\\n",
       "0  5524        1957  Graduation         Single  58138.0        0         0   \n",
       "1  2174        1954  Graduation         Single  46344.0        1         1   \n",
       "2  4141        1965  Graduation       Together  71613.0        0         0   \n",
       "3  6182        1984  Graduation       Together  26646.0        1         0   \n",
       "4  5324        1981         PhD        Married  58293.0        1         0   \n",
       "\n",
       "  Dt_Customer  Recency  MntWines  ...  AcceptedCmp3  AcceptedCmp4  \\\n",
       "0  2012-09-04       58       635  ...             0             0   \n",
       "1  2014-03-08       38        11  ...             0             0   \n",
       "2  2013-08-21       26       426  ...             0             0   \n",
       "3  2014-02-10       26        11  ...             0             0   \n",
       "4  2014-01-19       94       173  ...             0             0   \n",
       "\n",
       "   AcceptedCmp5  AcceptedCmp1  AcceptedCmp2  Complain  Z_CostContact  \\\n",
       "0             0             0             0         0              3   \n",
       "1             0             0             0         0              3   \n",
       "2             0             0             0         0              3   \n",
       "3             0             0             0         0              3   \n",
       "4             0             0             0         0              3   \n",
       "\n",
       "   Z_Revenue  Response  Age  \n",
       "0         11         1   68  \n",
       "1         11         0   71  \n",
       "2         11         0   60  \n",
       "3         11         0   41  \n",
       "4         11         0   44  \n",
       "\n",
       "[5 rows x 30 columns]"
      ]
     },
     "execution_count": 348,
     "metadata": {},
     "output_type": "execute_result"
    }
   ],
   "source": [
    "df.head()"
   ]
  },
  {
   "cell_type": "code",
   "execution_count": 349,
   "id": "d73407eb",
   "metadata": {},
   "outputs": [],
   "source": [
    "df['Total_Children'] = df['Kidhome'] + df['Teenhome']"
   ]
  },
  {
   "cell_type": "code",
   "execution_count": 350,
   "id": "237bc553",
   "metadata": {},
   "outputs": [
    {
     "data": {
      "text/plain": [
       "0       0\n",
       "1       2\n",
       "2       0\n",
       "3       1\n",
       "4       1\n",
       "       ..\n",
       "2235    1\n",
       "2236    3\n",
       "2237    0\n",
       "2238    1\n",
       "2239    2\n",
       "Name: Total_Children, Length: 2216, dtype: int64"
      ]
     },
     "execution_count": 350,
     "metadata": {},
     "output_type": "execute_result"
    }
   ],
   "source": [
    "df['Total_Children']"
   ]
  },
  {
   "cell_type": "code",
   "execution_count": 351,
   "id": "a9ad3f61",
   "metadata": {},
   "outputs": [
    {
     "data": {
      "text/plain": [
       "Index(['ID', 'Year_Birth', 'Education', 'Marital_Status', 'Income', 'Kidhome',\n",
       "       'Teenhome', 'Dt_Customer', 'Recency', 'MntWines', 'MntFruits',\n",
       "       'MntMeatProducts', 'MntFishProducts', 'MntSweetProducts',\n",
       "       'MntGoldProds', 'NumDealsPurchases', 'NumWebPurchases',\n",
       "       'NumCatalogPurchases', 'NumStorePurchases', 'NumWebVisitsMonth',\n",
       "       'AcceptedCmp3', 'AcceptedCmp4', 'AcceptedCmp5', 'AcceptedCmp1',\n",
       "       'AcceptedCmp2', 'Complain', 'Z_CostContact', 'Z_Revenue', 'Response',\n",
       "       'Age', 'Total_Children'],\n",
       "      dtype='object')"
      ]
     },
     "execution_count": 351,
     "metadata": {},
     "output_type": "execute_result"
    }
   ],
   "source": [
    "df.columns"
   ]
  },
  {
   "cell_type": "code",
   "execution_count": 352,
   "id": "2f4a555d",
   "metadata": {},
   "outputs": [],
   "source": [
    "spend_cols = ['MntWines', 'MntFruits',\n",
    "       'MntMeatProducts', 'MntFishProducts', 'MntSweetProducts']"
   ]
  },
  {
   "cell_type": "code",
   "execution_count": 353,
   "id": "8fd820f4",
   "metadata": {},
   "outputs": [],
   "source": [
    "df['Total_Spending'] = df[spend_cols].sum(axis = 1)"
   ]
  },
  {
   "cell_type": "code",
   "execution_count": 354,
   "id": "49555436",
   "metadata": {},
   "outputs": [
    {
     "data": {
      "text/plain": [
       "0       1529\n",
       "1         21\n",
       "2        734\n",
       "3         48\n",
       "4        407\n",
       "        ... \n",
       "2235    1094\n",
       "2236     436\n",
       "2237    1217\n",
       "2238     782\n",
       "2239     151\n",
       "Name: Total_Spending, Length: 2216, dtype: int64"
      ]
     },
     "execution_count": 354,
     "metadata": {},
     "output_type": "execute_result"
    }
   ],
   "source": [
    "df['Total_Spending']"
   ]
  },
  {
   "cell_type": "code",
   "execution_count": 355,
   "id": "9282152a",
   "metadata": {},
   "outputs": [],
   "source": [
    "df['Customer_Since'] = (pd.Timestamp('today') - df['Dt_Customer']).dt.days"
   ]
  },
  {
   "cell_type": "code",
   "execution_count": 356,
   "id": "0c260b9e",
   "metadata": {},
   "outputs": [
    {
     "data": {
      "text/plain": [
       "0       4797\n",
       "1       4247\n",
       "2       4446\n",
       "3       4273\n",
       "4       4295\n",
       "        ... \n",
       "2235    4515\n",
       "2236    4153\n",
       "2237    4289\n",
       "2238    4290\n",
       "2239    4756\n",
       "Name: Customer_Since, Length: 2216, dtype: int64"
      ]
     },
     "execution_count": 356,
     "metadata": {},
     "output_type": "execute_result"
    }
   ],
   "source": [
    "df['Customer_Since']"
   ]
  },
  {
   "cell_type": "code",
   "execution_count": 357,
   "id": "fef849b7",
   "metadata": {},
   "outputs": [
    {
     "data": {
      "image/png": "[encoded data removed]",
      "text/plain": [
       "<Figure size 640x480 with 1 Axes>"
      ]
     },
     "metadata": {},
     "output_type": "display_data"
    }
   ],
   "source": [
    "sns.histplot(df['Age'] , bins = 30, kde=True)\n",
    "plt.title('Age Distribution')\n",
    "plt.show()"
   ]
  },
  {
   "cell_type": "code",
   "execution_count": 358,
   "id": "3eff1b96",
   "metadata": {},
   "outputs": [
    {
     "data": {
      "image/png": "[encoded data removed]",
      "text/plain": [
       "<Figure size 640x480 with 1 Axes>"
      ]
     },
     "metadata": {},
     "output_type": "display_data"
    }
   ],
   "source": [
    "sns.histplot(df['Income'], bins = 30, kde=True)\n",
    "plt.title('Income Distribution')\n",
    "plt.show()"
   ]
  },
  {
   "cell_type": "code",
   "execution_count": 359,
   "id": "b514d676",
   "metadata": {},
   "outputs": [
    {
     "data": {
      "image/png": "[encoded data removed]",
      "text/plain": [
       "<Figure size 640x480 with 1 Axes>"
      ]
     },
     "metadata": {},
     "output_type": "display_data"
    }
   ],
   "source": [
    "sns.histplot(df['Total_Spending'], bins = 30, kde=True)\n",
    "plt.title('Total_Spending  Distribution')\n",
    "plt.show()"
   ]
  },
  {
   "cell_type": "code",
   "execution_count": 360,
   "id": "066cd5df",
   "metadata": {},
   "outputs": [
    {
     "data": {
      "image/png": "[encoded data removed]",
      "text/plain": [
       "<Figure size 640x480 with 1 Axes>"
      ]
     },
     "metadata": {},
     "output_type": "display_data"
    }
   ],
   "source": [
    "sns.boxplot(x='Education',y='Income',data=df)\n",
    "plt.xticks(rotation=45)\n",
    "plt.title('Income by Education Level')\n",
    "plt.show()"
   ]
  },
  {
   "cell_type": "code",
   "execution_count": 361,
   "id": "46c01520",
   "metadata": {},
   "outputs": [
    {
     "data": {
      "image/png": "[encoded data removed]",
      "text/plain": [
       "<Figure size 640x480 with 1 Axes>"
      ]
     },
     "metadata": {},
     "output_type": "display_data"
    }
   ],
   "source": [
    "sns.boxplot(x='Marital_Status', y='Total_Spending', data=df)\n",
    "plt.xticks(rotation=45)\n",
    "plt.title('Marital_Status by Total Spending Level')\n",
    "plt.show()"
   ]
  },
  {
   "cell_type": "code",
   "execution_count": 362,
   "id": "5505d440",
   "metadata": {},
   "outputs": [],
   "source": [
    "corr = df[['Income','Age','Recency','Total_Spending','NumWebPurchases','NumStorePurchases']].corr()"
   ]
  },
  {
   "cell_type": "code",
   "execution_count": 363,
   "id": "ac181550",
   "metadata": {},
   "outputs": [
    {
     "data": {
      "text/html": [
       "<div>\n",
       "<style scoped>\n",
       "    .dataframe tbody tr th:only-of-type {\n",
       "        vertical-align: middle;\n",
       "    }\n",
       "\n",
       "    .dataframe tbody tr th {\n",
       "        vertical-align: top;\n",
       "    }\n",
       "\n",
       "    .dataframe thead th {\n",
       "        text-align: right;\n",
       "    }\n",
       "</style>\n",
       "<table border=\"1\" class=\"dataframe\">\n",
       "  <thead>\n",
       "    <tr style=\"text-align: right;\">\n",
       "      <th></th>\n",
       "      <th>Income</th>\n",
       "      <th>Age</th>\n",
       "      <th>Recency</th>\n",
       "      <th>Total_Spending</th>\n",
       "      <th>NumWebPurchases</th>\n",
       "      <th>NumStorePurchases</th>\n",
       "    </tr>\n",
       "  </thead>\n",
       "  <tbody>\n",
       "    <tr>\n",
       "      <th>Income</th>\n",
       "      <td>1.000000</td>\n",
       "      <td>0.161791</td>\n",
       "      <td>-0.003970</td>\n",
       "      <td>0.668062</td>\n",
       "      <td>0.387878</td>\n",
       "      <td>0.529362</td>\n",
       "    </tr>\n",
       "    <tr>\n",
       "      <th>Age</th>\n",
       "      <td>0.161791</td>\n",
       "      <td>1.000000</td>\n",
       "      <td>0.016295</td>\n",
       "      <td>0.112779</td>\n",
       "      <td>0.153051</td>\n",
       "      <td>0.127891</td>\n",
       "    </tr>\n",
       "    <tr>\n",
       "      <th>Recency</th>\n",
       "      <td>-0.003970</td>\n",
       "      <td>0.016295</td>\n",
       "      <td>1.000000</td>\n",
       "      <td>0.019374</td>\n",
       "      <td>-0.005641</td>\n",
       "      <td>-0.000434</td>\n",
       "    </tr>\n",
       "    <tr>\n",
       "      <th>Total_Spending</th>\n",
       "      <td>0.668062</td>\n",
       "      <td>0.112779</td>\n",
       "      <td>0.019374</td>\n",
       "      <td>1.000000</td>\n",
       "      <td>0.515999</td>\n",
       "      <td>0.670327</td>\n",
       "    </tr>\n",
       "    <tr>\n",
       "      <th>NumWebPurchases</th>\n",
       "      <td>0.387878</td>\n",
       "      <td>0.153051</td>\n",
       "      <td>-0.005641</td>\n",
       "      <td>0.515999</td>\n",
       "      <td>1.000000</td>\n",
       "      <td>0.516240</td>\n",
       "    </tr>\n",
       "    <tr>\n",
       "      <th>NumStorePurchases</th>\n",
       "      <td>0.529362</td>\n",
       "      <td>0.127891</td>\n",
       "      <td>-0.000434</td>\n",
       "      <td>0.670327</td>\n",
       "      <td>0.516240</td>\n",
       "      <td>1.000000</td>\n",
       "    </tr>\n",
       "  </tbody>\n",
       "</table>\n",
       "</div>"
      ],
      "text/plain": [
       "                     Income       Age   Recency  Total_Spending  \\\n",
       "Income             1.000000  0.161791 -0.003970        0.668062   \n",
       "Age                0.161791  1.000000  0.016295        0.112779   \n",
       "Recency           -0.003970  0.016295  1.000000        0.019374   \n",
       "Total_Spending     0.668062  0.112779  0.019374        1.000000   \n",
       "NumWebPurchases    0.387878  0.153051 -0.005641        0.515999   \n",
       "NumStorePurchases  0.529362  0.127891 -0.000434        0.670327   \n",
       "\n",
       "                   NumWebPurchases  NumStorePurchases  \n",
       "Income                    0.387878           0.529362  \n",
       "Age                       0.153051           0.127891  \n",
       "Recency                  -0.005641          -0.000434  \n",
       "Total_Spending            0.515999           0.670327  \n",
       "NumWebPurchases           1.000000           0.516240  \n",
       "NumStorePurchases         0.516240           1.000000  "
      ]
     },
     "execution_count": 363,
     "metadata": {},
     "output_type": "execute_result"
    }
   ],
   "source": [
    "corr"
   ]
  },
  {
   "cell_type": "code",
   "execution_count": 364,
   "id": "3dd4fb95",
   "metadata": {},
   "outputs": [
    {
     "data": {
      "image/png": "[encoded data removed]",
      "text/plain": [
       "<Figure size 640x480 with 2 Axes>"
      ]
     },
     "metadata": {},
     "output_type": "display_data"
    }
   ],
   "source": [
    "sns.heatmap(corr,annot = True,cmap = 'coolwarm')\n",
    "plt.title('Correlation Matrix')\n",
    "plt.show()"
   ]
  },
  {
   "cell_type": "code",
   "execution_count": 365,
   "id": "a348f890",
   "metadata": {},
   "outputs": [],
   "source": [
    "pivot_income = df.pivot_table(values='Income', index='Education', columns='Marital_Status', aggfunc='mean')"
   ]
  },
  {
   "cell_type": "code",
   "execution_count": 366,
   "id": "0be90089",
   "metadata": {},
   "outputs": [
    {
     "data": {
      "text/html": [
       "<div>\n",
       "<style scoped>\n",
       "    .dataframe tbody tr th:only-of-type {\n",
       "        vertical-align: middle;\n",
       "    }\n",
       "\n",
       "    .dataframe tbody tr th {\n",
       "        vertical-align: top;\n",
       "    }\n",
       "\n",
       "    .dataframe thead th {\n",
       "        text-align: right;\n",
       "    }\n",
       "</style>\n",
       "<table border=\"1\" class=\"dataframe\">\n",
       "  <thead>\n",
       "    <tr style=\"text-align: right;\">\n",
       "      <th>Marital_Status</th>\n",
       "      <th>Absurd</th>\n",
       "      <th>Alone</th>\n",
       "      <th>Divorced</th>\n",
       "      <th>Married</th>\n",
       "      <th>Single</th>\n",
       "      <th>Together</th>\n",
       "      <th>Widow</th>\n",
       "      <th>YOLO</th>\n",
       "    </tr>\n",
       "    <tr>\n",
       "      <th>Education</th>\n",
       "      <th></th>\n",
       "      <th></th>\n",
       "      <th></th>\n",
       "      <th></th>\n",
       "      <th></th>\n",
       "      <th></th>\n",
       "      <th></th>\n",
       "      <th></th>\n",
       "    </tr>\n",
       "  </thead>\n",
       "  <tbody>\n",
       "    <tr>\n",
       "      <th>2n Cycle</th>\n",
       "      <td>NaN</td>\n",
       "      <td>NaN</td>\n",
       "      <td>49395.130435</td>\n",
       "      <td>46201.100000</td>\n",
       "      <td>53673.944444</td>\n",
       "      <td>44736.410714</td>\n",
       "      <td>51392.200000</td>\n",
       "      <td>NaN</td>\n",
       "    </tr>\n",
       "    <tr>\n",
       "      <th>Basic</th>\n",
       "      <td>NaN</td>\n",
       "      <td>NaN</td>\n",
       "      <td>9548.000000</td>\n",
       "      <td>21960.500000</td>\n",
       "      <td>18238.666667</td>\n",
       "      <td>21240.071429</td>\n",
       "      <td>22123.000000</td>\n",
       "      <td>NaN</td>\n",
       "    </tr>\n",
       "    <tr>\n",
       "      <th>Graduation</th>\n",
       "      <td>79244.0</td>\n",
       "      <td>34176.0</td>\n",
       "      <td>54526.042017</td>\n",
       "      <td>50800.258741</td>\n",
       "      <td>51322.182927</td>\n",
       "      <td>55758.480702</td>\n",
       "      <td>54976.657143</td>\n",
       "      <td>NaN</td>\n",
       "    </tr>\n",
       "    <tr>\n",
       "      <th>Master</th>\n",
       "      <td>65487.0</td>\n",
       "      <td>61331.0</td>\n",
       "      <td>50331.945946</td>\n",
       "      <td>53286.028986</td>\n",
       "      <td>53530.560000</td>\n",
       "      <td>52109.009804</td>\n",
       "      <td>58401.545455</td>\n",
       "      <td>NaN</td>\n",
       "    </tr>\n",
       "    <tr>\n",
       "      <th>PhD</th>\n",
       "      <td>NaN</td>\n",
       "      <td>35860.0</td>\n",
       "      <td>53096.615385</td>\n",
       "      <td>58138.031579</td>\n",
       "      <td>53314.614583</td>\n",
       "      <td>56041.422414</td>\n",
       "      <td>60288.083333</td>\n",
       "      <td>48432.0</td>\n",
       "    </tr>\n",
       "  </tbody>\n",
       "</table>\n",
       "</div>"
      ],
      "text/plain": [
       "Marital_Status   Absurd    Alone      Divorced       Married        Single  \\\n",
       "Education                                                                    \n",
       "2n Cycle            NaN      NaN  49395.130435  46201.100000  53673.944444   \n",
       "Basic               NaN      NaN   9548.000000  21960.500000  18238.666667   \n",
       "Graduation      79244.0  34176.0  54526.042017  50800.258741  51322.182927   \n",
       "Master          65487.0  61331.0  50331.945946  53286.028986  53530.560000   \n",
       "PhD                 NaN  35860.0  53096.615385  58138.031579  53314.614583   \n",
       "\n",
       "Marital_Status      Together         Widow     YOLO  \n",
       "Education                                            \n",
       "2n Cycle        44736.410714  51392.200000      NaN  \n",
       "Basic           21240.071429  22123.000000      NaN  \n",
       "Graduation      55758.480702  54976.657143      NaN  \n",
       "Master          52109.009804  58401.545455      NaN  \n",
       "PhD             56041.422414  60288.083333  48432.0  "
      ]
     },
     "execution_count": 366,
     "metadata": {},
     "output_type": "execute_result"
    }
   ],
   "source": [
    "pivot_income"
   ]
  },
  {
   "cell_type": "code",
   "execution_count": 367,
   "id": "4b409db0",
   "metadata": {},
   "outputs": [
    {
     "data": {
      "image/png": "[encoded data removed]",
      "text/plain": [
       "<Figure size 640x480 with 2 Axes>"
      ]
     },
     "metadata": {},
     "output_type": "display_data"
    }
   ],
   "source": [
    "sns.heatmap(pivot_income,annot=True,fmt='.0f', cmap='YlGnBu')\n",
    "plt.title('Average Income by Education and  Marital_Status')\n",
    "plt.show()"
   ]
  },
  {
   "cell_type": "code",
   "execution_count": 368,
   "id": "78f5db3f",
   "metadata": {},
   "outputs": [],
   "source": [
    "group1 = df.groupby('Education')['Total_Spending'].mean().sort_values(ascending=False)"
   ]
  },
  {
   "cell_type": "code",
   "execution_count": 369,
   "id": "1b2ef203",
   "metadata": {},
   "outputs": [
    {
     "data": {
      "text/plain": [
       "Education\n",
       "PhD           644.330561\n",
       "Graduation    571.002688\n",
       "Master        569.578082\n",
       "2n Cycle      448.050000\n",
       "Basic          58.962963\n",
       "Name: Total_Spending, dtype: float64"
      ]
     },
     "execution_count": 369,
     "metadata": {},
     "output_type": "execute_result"
    }
   ],
   "source": [
    "group1"
   ]
  },
  {
   "cell_type": "code",
   "execution_count": 370,
   "id": "ac6f3c3c",
   "metadata": {},
   "outputs": [
    {
     "data": {
      "image/png": "[encoded data removed]",
      "text/plain": [
       "<Figure size 640x480 with 1 Axes>"
      ]
     },
     "metadata": {},
     "output_type": "display_data"
    }
   ],
   "source": [
    "group1.plot(kind = 'bar',color='skyblue')\n",
    "plt.title('Average Spending by Education')\n",
    "plt.ylabel('Average Total Spending')\n",
    "plt.xticks(rotation = 45)\n",
    "plt.show()"
   ]
  },
  {
   "cell_type": "code",
   "execution_count": 371,
   "id": "ada1f563",
   "metadata": {},
   "outputs": [],
   "source": [
    "df['AcceptedAny'] = df[['AcceptedCmp1','AcceptedCmp2','AcceptedCmp3','AcceptedCmp4','AcceptedCmp5','Response']].sum(axis=1)"
   ]
  },
  {
   "cell_type": "code",
   "execution_count": 372,
   "id": "6db2eded",
   "metadata": {},
   "outputs": [
    {
     "data": {
      "text/plain": [
       "array([1, 0, 3, 2, 4, 5])"
      ]
     },
     "execution_count": 372,
     "metadata": {},
     "output_type": "execute_result"
    }
   ],
   "source": [
    "df['AcceptedAny'].unique()"
   ]
  },
  {
   "cell_type": "code",
   "execution_count": 373,
   "id": "6c3f1a98",
   "metadata": {},
   "outputs": [],
   "source": [
    "df['AcceptedAny'] = df['AcceptedAny'].apply(lambda x: 1 if x>0 else 0)"
   ]
  },
  {
   "cell_type": "code",
   "execution_count": 374,
   "id": "e2ea6e85",
   "metadata": {},
   "outputs": [
    {
     "data": {
      "text/plain": [
       "array([1, 0])"
      ]
     },
     "execution_count": 374,
     "metadata": {},
     "output_type": "execute_result"
    }
   ],
   "source": [
    "df['AcceptedAny'].unique()"
   ]
  },
  {
   "cell_type": "code",
   "execution_count": 375,
   "id": "039a14af",
   "metadata": {},
   "outputs": [],
   "source": [
    "group2= df.groupby('Marital_Status')['AcceptedAny'].mean().sort_values(ascending=False)"
   ]
  },
  {
   "cell_type": "code",
   "execution_count": 376,
   "id": "cfd0ec71",
   "metadata": {},
   "outputs": [
    {
     "data": {
      "text/plain": [
       "Marital_Status\n",
       "Absurd      0.500000\n",
       "YOLO        0.500000\n",
       "Widow       0.342105\n",
       "Alone       0.333333\n",
       "Single      0.312102\n",
       "Divorced    0.297414\n",
       "Married     0.252042\n",
       "Together    0.251309\n",
       "Name: AcceptedAny, dtype: float64"
      ]
     },
     "execution_count": 376,
     "metadata": {},
     "output_type": "execute_result"
    }
   ],
   "source": [
    "group2"
   ]
  },
  {
   "cell_type": "code",
   "execution_count": 377,
   "id": "208ea0bd",
   "metadata": {},
   "outputs": [
    {
     "data": {
      "image/png": "[encoded data removed]",
      "text/plain": [
       "<Figure size 640x480 with 1 Axes>"
      ]
     },
     "metadata": {},
     "output_type": "display_data"
    }
   ],
   "source": [
    "group2.plot(kind='bar',color='orange')\n",
    "plt.title('Campaign Acceptance Rate by  Martial Status')\n",
    "plt.ylabel('Acceptance Rate')\n",
    "plt.xticks(rotation = 45)\n",
    "plt.show()"
   ]
  },
  {
   "cell_type": "code",
   "execution_count": 378,
   "id": "1d64f538",
   "metadata": {},
   "outputs": [],
   "source": [
    "bins = [18,30,40,50,60,70,90]\n"
   ]
  },
  {
   "cell_type": "code",
   "execution_count": 379,
   "id": "a1abdc70",
   "metadata": {},
   "outputs": [],
   "source": [
    "labels = ['18-29','30-39','40-49','50-59','60-69','70+']"
   ]
  },
  {
   "cell_type": "code",
   "execution_count": 380,
   "id": "f6979271",
   "metadata": {},
   "outputs": [],
   "source": [
    "df['AgeGroup'] = pd.cut(df['Age'],bins=bins,labels=labels)"
   ]
  },
  {
   "cell_type": "code",
   "execution_count": 381,
   "id": "37086dd0",
   "metadata": {},
   "outputs": [
    {
     "data": {
      "text/plain": [
       "0       60-69\n",
       "1         70+\n",
       "2       50-59\n",
       "3       40-49\n",
       "4       40-49\n",
       "        ...  \n",
       "2235    50-59\n",
       "2236      70+\n",
       "2237    40-49\n",
       "2238    60-69\n",
       "2239      70+\n",
       "Name: AgeGroup, Length: 2216, dtype: category\n",
       "Categories (6, object): ['18-29' < '30-39' < '40-49' < '50-59' < '60-69' < '70+']"
      ]
     },
     "execution_count": 381,
     "metadata": {},
     "output_type": "execute_result"
    }
   ],
   "source": [
    "df['AgeGroup']"
   ]
  },
  {
   "cell_type": "code",
   "execution_count": 382,
   "id": "08b51074",
   "metadata": {},
   "outputs": [
    {
     "name": "stderr",
     "output_type": "stream",
     "text": [
      "C:\\Users\\Deepmala singh\\AppData\\Local\\Temp\\ipykernel_3572\\3061263347.py:1: FutureWarning: The default of observed=False is deprecated and will be changed to True in a future version of pandas. Pass observed=False to retain current behavior or observed=True to adopt the future default and silence this warning.\n",
      "  group3 = df.groupby('AgeGroup')['Income'].mean()\n"
     ]
    }
   ],
   "source": [
    "group3 = df.groupby('AgeGroup')['Income'].mean()"
   ]
  },
  {
   "cell_type": "code",
   "execution_count": 383,
   "id": "3b835656",
   "metadata": {},
   "outputs": [
    {
     "data": {
      "text/plain": [
       "AgeGroup\n",
       "18-29    46658.000000\n",
       "30-39    46283.028302\n",
       "40-49    49224.877034\n",
       "50-59    50812.913303\n",
       "60-69    56200.827887\n",
       "70+      58944.316294\n",
       "Name: Income, dtype: float64"
      ]
     },
     "execution_count": 383,
     "metadata": {},
     "output_type": "execute_result"
    }
   ],
   "source": [
    "group3"
   ]
  },
  {
   "cell_type": "code",
   "execution_count": 384,
   "id": "17aec81d",
   "metadata": {},
   "outputs": [
    {
     "data": {
      "image/png": "[encoded data removed]",
      "text/plain": [
       "<Figure size 640x480 with 1 Axes>"
      ]
     },
     "metadata": {},
     "output_type": "display_data"
    }
   ],
   "source": [
    "group3.plot(kind='barh',color='green')\n",
    "plt.title('Average Income by Age Group')\n",
    "plt.xlabel('Average Income')\n",
    "plt.show()"
   ]
  },
  {
   "cell_type": "code",
   "execution_count": 385,
   "id": "eca2eb5f",
   "metadata": {},
   "outputs": [
    {
     "data": {
      "text/html": [
       "<div>\n",
       "<style scoped>\n",
       "    .dataframe tbody tr th:only-of-type {\n",
       "        vertical-align: middle;\n",
       "    }\n",
       "\n",
       "    .dataframe tbody tr th {\n",
       "        vertical-align: top;\n",
       "    }\n",
       "\n",
       "    .dataframe thead th {\n",
       "        text-align: right;\n",
       "    }\n",
       "</style>\n",
       "<table border=\"1\" class=\"dataframe\">\n",
       "  <thead>\n",
       "    <tr style=\"text-align: right;\">\n",
       "      <th></th>\n",
       "      <th>ID</th>\n",
       "      <th>Year_Birth</th>\n",
       "      <th>Education</th>\n",
       "      <th>Marital_Status</th>\n",
       "      <th>Income</th>\n",
       "      <th>Kidhome</th>\n",
       "      <th>Teenhome</th>\n",
       "      <th>Dt_Customer</th>\n",
       "      <th>Recency</th>\n",
       "      <th>MntWines</th>\n",
       "      <th>...</th>\n",
       "      <th>Complain</th>\n",
       "      <th>Z_CostContact</th>\n",
       "      <th>Z_Revenue</th>\n",
       "      <th>Response</th>\n",
       "      <th>Age</th>\n",
       "      <th>Total_Children</th>\n",
       "      <th>Total_Spending</th>\n",
       "      <th>Customer_Since</th>\n",
       "      <th>AcceptedAny</th>\n",
       "      <th>AgeGroup</th>\n",
       "    </tr>\n",
       "  </thead>\n",
       "  <tbody>\n",
       "    <tr>\n",
       "      <th>0</th>\n",
       "      <td>5524</td>\n",
       "      <td>1957</td>\n",
       "      <td>Graduation</td>\n",
       "      <td>Single</td>\n",
       "      <td>58138.0</td>\n",
       "      <td>0</td>\n",
       "      <td>0</td>\n",
       "      <td>2012-09-04</td>\n",
       "      <td>58</td>\n",
       "      <td>635</td>\n",
       "      <td>...</td>\n",
       "      <td>0</td>\n",
       "      <td>3</td>\n",
       "      <td>11</td>\n",
       "      <td>1</td>\n",
       "      <td>68</td>\n",
       "      <td>0</td>\n",
       "      <td>1529</td>\n",
       "      <td>4797</td>\n",
       "      <td>1</td>\n",
       "      <td>60-69</td>\n",
       "    </tr>\n",
       "    <tr>\n",
       "      <th>1</th>\n",
       "      <td>2174</td>\n",
       "      <td>1954</td>\n",
       "      <td>Graduation</td>\n",
       "      <td>Single</td>\n",
       "      <td>46344.0</td>\n",
       "      <td>1</td>\n",
       "      <td>1</td>\n",
       "      <td>2014-03-08</td>\n",
       "      <td>38</td>\n",
       "      <td>11</td>\n",
       "      <td>...</td>\n",
       "      <td>0</td>\n",
       "      <td>3</td>\n",
       "      <td>11</td>\n",
       "      <td>0</td>\n",
       "      <td>71</td>\n",
       "      <td>2</td>\n",
       "      <td>21</td>\n",
       "      <td>4247</td>\n",
       "      <td>0</td>\n",
       "      <td>70+</td>\n",
       "    </tr>\n",
       "    <tr>\n",
       "      <th>2</th>\n",
       "      <td>4141</td>\n",
       "      <td>1965</td>\n",
       "      <td>Graduation</td>\n",
       "      <td>Together</td>\n",
       "      <td>71613.0</td>\n",
       "      <td>0</td>\n",
       "      <td>0</td>\n",
       "      <td>2013-08-21</td>\n",
       "      <td>26</td>\n",
       "      <td>426</td>\n",
       "      <td>...</td>\n",
       "      <td>0</td>\n",
       "      <td>3</td>\n",
       "      <td>11</td>\n",
       "      <td>0</td>\n",
       "      <td>60</td>\n",
       "      <td>0</td>\n",
       "      <td>734</td>\n",
       "      <td>4446</td>\n",
       "      <td>0</td>\n",
       "      <td>50-59</td>\n",
       "    </tr>\n",
       "    <tr>\n",
       "      <th>3</th>\n",
       "      <td>6182</td>\n",
       "      <td>1984</td>\n",
       "      <td>Graduation</td>\n",
       "      <td>Together</td>\n",
       "      <td>26646.0</td>\n",
       "      <td>1</td>\n",
       "      <td>0</td>\n",
       "      <td>2014-02-10</td>\n",
       "      <td>26</td>\n",
       "      <td>11</td>\n",
       "      <td>...</td>\n",
       "      <td>0</td>\n",
       "      <td>3</td>\n",
       "      <td>11</td>\n",
       "      <td>0</td>\n",
       "      <td>41</td>\n",
       "      <td>1</td>\n",
       "      <td>48</td>\n",
       "      <td>4273</td>\n",
       "      <td>0</td>\n",
       "      <td>40-49</td>\n",
       "    </tr>\n",
       "    <tr>\n",
       "      <th>4</th>\n",
       "      <td>5324</td>\n",
       "      <td>1981</td>\n",
       "      <td>PhD</td>\n",
       "      <td>Married</td>\n",
       "      <td>58293.0</td>\n",
       "      <td>1</td>\n",
       "      <td>0</td>\n",
       "      <td>2014-01-19</td>\n",
       "      <td>94</td>\n",
       "      <td>173</td>\n",
       "      <td>...</td>\n",
       "      <td>0</td>\n",
       "      <td>3</td>\n",
       "      <td>11</td>\n",
       "      <td>0</td>\n",
       "      <td>44</td>\n",
       "      <td>1</td>\n",
       "      <td>407</td>\n",
       "      <td>4295</td>\n",
       "      <td>0</td>\n",
       "      <td>40-49</td>\n",
       "    </tr>\n",
       "  </tbody>\n",
       "</table>\n",
       "<p>5 rows × 35 columns</p>\n",
       "</div>"
      ],
      "text/plain": [
       "     ID  Year_Birth   Education Marital_Status   Income  Kidhome  Teenhome  \\\n",
       "0  5524        1957  Graduation         Single  58138.0        0         0   \n",
       "1  2174        1954  Graduation         Single  46344.0        1         1   \n",
       "2  4141        1965  Graduation       Together  71613.0        0         0   \n",
       "3  6182        1984  Graduation       Together  26646.0        1         0   \n",
       "4  5324        1981         PhD        Married  58293.0        1         0   \n",
       "\n",
       "  Dt_Customer  Recency  MntWines  ...  Complain  Z_CostContact  Z_Revenue  \\\n",
       "0  2012-09-04       58       635  ...         0              3         11   \n",
       "1  2014-03-08       38        11  ...         0              3         11   \n",
       "2  2013-08-21       26       426  ...         0              3         11   \n",
       "3  2014-02-10       26        11  ...         0              3         11   \n",
       "4  2014-01-19       94       173  ...         0              3         11   \n",
       "\n",
       "   Response  Age  Total_Children  Total_Spending  Customer_Since  AcceptedAny  \\\n",
       "0         1   68               0            1529            4797            1   \n",
       "1         0   71               2              21            4247            0   \n",
       "2         0   60               0             734            4446            0   \n",
       "3         0   41               1              48            4273            0   \n",
       "4         0   44               1             407            4295            0   \n",
       "\n",
       "   AgeGroup  \n",
       "0     60-69  \n",
       "1       70+  \n",
       "2     50-59  \n",
       "3     40-49  \n",
       "4     40-49  \n",
       "\n",
       "[5 rows x 35 columns]"
      ]
     },
     "execution_count": 385,
     "metadata": {},
     "output_type": "execute_result"
    }
   ],
   "source": [
    "df.head()"
   ]
  },
  {
   "cell_type": "code",
   "execution_count": 386,
   "id": "a1b815f5",
   "metadata": {},
   "outputs": [
    {
     "data": {
      "text/plain": [
       "Index(['ID', 'Year_Birth', 'Education', 'Marital_Status', 'Income', 'Kidhome',\n",
       "       'Teenhome', 'Dt_Customer', 'Recency', 'MntWines', 'MntFruits',\n",
       "       'MntMeatProducts', 'MntFishProducts', 'MntSweetProducts',\n",
       "       'MntGoldProds', 'NumDealsPurchases', 'NumWebPurchases',\n",
       "       'NumCatalogPurchases', 'NumStorePurchases', 'NumWebVisitsMonth',\n",
       "       'AcceptedCmp3', 'AcceptedCmp4', 'AcceptedCmp5', 'AcceptedCmp1',\n",
       "       'AcceptedCmp2', 'Complain', 'Z_CostContact', 'Z_Revenue', 'Response',\n",
       "       'Age', 'Total_Children', 'Total_Spending', 'Customer_Since',\n",
       "       'AcceptedAny', 'AgeGroup'],\n",
       "      dtype='object')"
      ]
     },
     "execution_count": 386,
     "metadata": {},
     "output_type": "execute_result"
    }
   ],
   "source": [
    "df.columns"
   ]
  },
  {
   "cell_type": "code",
   "execution_count": 387,
   "id": "960d16fb",
   "metadata": {},
   "outputs": [
    {
     "ename": "NameError",
     "evalue": "name 'Age' is not defined",
     "output_type": "error",
     "traceback": [
      "\u001b[1;31m---------------------------------------------------------------------------\u001b[0m",
      "\u001b[1;31mNameError\u001b[0m                                 Traceback (most recent call last)",
      "Cell \u001b[1;32mIn[387], line 1\u001b[0m\n\u001b[1;32m----> 1\u001b[0m \u001b[43mAge\u001b[49m\u001b[38;5;241m-\u001b[39m Income \u001b[38;5;241m-\u001b[39m Total_Spending \u001b[38;5;241m-\u001b[39m NumWebPurchases \u001b[38;5;241m-\u001b[39m NumStorePurchases \u001b[38;5;241m-\u001b[39m NumWebVisitsPurchases \u001b[38;5;241m-\u001b[39m Recency\n",
      "\u001b[1;31mNameError\u001b[0m: name 'Age' is not defined"
     ]
    }
   ],
   "source": [
    "Age- Income - Total_Spending - NumWebPurchases - NumStorePurchases - NumWebVisitsPurchases - Recency"
   ]
  },
  {
   "cell_type": "code",
   "execution_count": null,
   "id": "e536c874",
   "metadata": {},
   "outputs": [],
   "source": [
    "features = ['Age', 'Income' , 'Total_Spending' , 'NumWebPurchases', 'NumStorePurchases', 'NumWebVisitsMonth', 'Recency']"
   ]
  },
  {
   "cell_type": "code",
   "execution_count": null,
   "id": "5efd0c49",
   "metadata": {},
   "outputs": [],
   "source": [
    "X = df[features].copy()"
   ]
  },
  {
   "cell_type": "code",
   "execution_count": null,
   "id": "eb64ffb1",
   "metadata": {},
   "outputs": [
    {
     "data": {
      "text/html": [
       "<div>\n",
       "<style scoped>\n",
       "    .dataframe tbody tr th:only-of-type {\n",
       "        vertical-align: middle;\n",
       "    }\n",
       "\n",
       "    .dataframe tbody tr th {\n",
       "        vertical-align: top;\n",
       "    }\n",
       "\n",
       "    .dataframe thead th {\n",
       "        text-align: right;\n",
       "    }\n",
       "</style>\n",
       "<table border=\"1\" class=\"dataframe\">\n",
       "  <thead>\n",
       "    <tr style=\"text-align: right;\">\n",
       "      <th></th>\n",
       "      <th>Age</th>\n",
       "      <th>Income</th>\n",
       "      <th>Total_Spending</th>\n",
       "      <th>NumWebPurchases</th>\n",
       "      <th>NumStorePurchases</th>\n",
       "      <th>NumWebVisitsMonth</th>\n",
       "      <th>Recency</th>\n",
       "    </tr>\n",
       "  </thead>\n",
       "  <tbody>\n",
       "    <tr>\n",
       "      <th>0</th>\n",
       "      <td>68</td>\n",
       "      <td>58138.0</td>\n",
       "      <td>1529</td>\n",
       "      <td>8</td>\n",
       "      <td>4</td>\n",
       "      <td>7</td>\n",
       "      <td>58</td>\n",
       "    </tr>\n",
       "    <tr>\n",
       "      <th>1</th>\n",
       "      <td>71</td>\n",
       "      <td>46344.0</td>\n",
       "      <td>21</td>\n",
       "      <td>1</td>\n",
       "      <td>2</td>\n",
       "      <td>5</td>\n",
       "      <td>38</td>\n",
       "    </tr>\n",
       "    <tr>\n",
       "      <th>2</th>\n",
       "      <td>60</td>\n",
       "      <td>71613.0</td>\n",
       "      <td>734</td>\n",
       "      <td>8</td>\n",
       "      <td>10</td>\n",
       "      <td>4</td>\n",
       "      <td>26</td>\n",
       "    </tr>\n",
       "    <tr>\n",
       "      <th>3</th>\n",
       "      <td>41</td>\n",
       "      <td>26646.0</td>\n",
       "      <td>48</td>\n",
       "      <td>2</td>\n",
       "      <td>4</td>\n",
       "      <td>6</td>\n",
       "      <td>26</td>\n",
       "    </tr>\n",
       "    <tr>\n",
       "      <th>4</th>\n",
       "      <td>44</td>\n",
       "      <td>58293.0</td>\n",
       "      <td>407</td>\n",
       "      <td>5</td>\n",
       "      <td>6</td>\n",
       "      <td>5</td>\n",
       "      <td>94</td>\n",
       "    </tr>\n",
       "    <tr>\n",
       "      <th>...</th>\n",
       "      <td>...</td>\n",
       "      <td>...</td>\n",
       "      <td>...</td>\n",
       "      <td>...</td>\n",
       "      <td>...</td>\n",
       "      <td>...</td>\n",
       "      <td>...</td>\n",
       "    </tr>\n",
       "    <tr>\n",
       "      <th>2235</th>\n",
       "      <td>58</td>\n",
       "      <td>61223.0</td>\n",
       "      <td>1094</td>\n",
       "      <td>9</td>\n",
       "      <td>4</td>\n",
       "      <td>5</td>\n",
       "      <td>46</td>\n",
       "    </tr>\n",
       "    <tr>\n",
       "      <th>2236</th>\n",
       "      <td>79</td>\n",
       "      <td>64014.0</td>\n",
       "      <td>436</td>\n",
       "      <td>8</td>\n",
       "      <td>5</td>\n",
       "      <td>7</td>\n",
       "      <td>56</td>\n",
       "    </tr>\n",
       "    <tr>\n",
       "      <th>2237</th>\n",
       "      <td>44</td>\n",
       "      <td>56981.0</td>\n",
       "      <td>1217</td>\n",
       "      <td>2</td>\n",
       "      <td>13</td>\n",
       "      <td>6</td>\n",
       "      <td>91</td>\n",
       "    </tr>\n",
       "    <tr>\n",
       "      <th>2238</th>\n",
       "      <td>69</td>\n",
       "      <td>69245.0</td>\n",
       "      <td>782</td>\n",
       "      <td>6</td>\n",
       "      <td>10</td>\n",
       "      <td>3</td>\n",
       "      <td>8</td>\n",
       "    </tr>\n",
       "    <tr>\n",
       "      <th>2239</th>\n",
       "      <td>71</td>\n",
       "      <td>52869.0</td>\n",
       "      <td>151</td>\n",
       "      <td>3</td>\n",
       "      <td>4</td>\n",
       "      <td>7</td>\n",
       "      <td>40</td>\n",
       "    </tr>\n",
       "  </tbody>\n",
       "</table>\n",
       "<p>2216 rows × 7 columns</p>\n",
       "</div>"
      ],
      "text/plain": [
       "      Age   Income  Total_Spending  NumWebPurchases  NumStorePurchases  \\\n",
       "0      68  58138.0            1529                8                  4   \n",
       "1      71  46344.0              21                1                  2   \n",
       "2      60  71613.0             734                8                 10   \n",
       "3      41  26646.0              48                2                  4   \n",
       "4      44  58293.0             407                5                  6   \n",
       "...   ...      ...             ...              ...                ...   \n",
       "2235   58  61223.0            1094                9                  4   \n",
       "2236   79  64014.0             436                8                  5   \n",
       "2237   44  56981.0            1217                2                 13   \n",
       "2238   69  69245.0             782                6                 10   \n",
       "2239   71  52869.0             151                3                  4   \n",
       "\n",
       "      NumWebVisitsMonth  Recency  \n",
       "0                     7       58  \n",
       "1                     5       38  \n",
       "2                     4       26  \n",
       "3                     6       26  \n",
       "4                     5       94  \n",
       "...                 ...      ...  \n",
       "2235                  5       46  \n",
       "2236                  7       56  \n",
       "2237                  6       91  \n",
       "2238                  3        8  \n",
       "2239                  7       40  \n",
       "\n",
       "[2216 rows x 7 columns]"
      ]
     },
     "execution_count": 130,
     "metadata": {},
     "output_type": "execute_result"
    }
   ],
   "source": [
    "X"
   ]
  },
  {
   "cell_type": "code",
   "execution_count": null,
   "id": "5145f8a3",
   "metadata": {},
   "outputs": [],
   "source": [
    "from sklearn.preprocessing import StandardScaler\n",
    "scaler =StandardScaler()\n",
    "X_scaled = scaler.fit_transform(X)"
   ]
  },
  {
   "cell_type": "code",
   "execution_count": null,
   "id": "c06f7926",
   "metadata": {},
   "outputs": [
    {
     "data": {
      "text/plain": [
       "array([[ 0.98644293,  0.2340627 ,  1.67383183, ..., -0.55414289,\n",
       "         0.69323197,  0.31053212],\n",
       "       [ 1.23680074, -0.23455948, -0.93944575, ..., -1.16951781,\n",
       "        -0.1315745 , -0.38050944],\n",
       "       [ 0.31882209,  0.76947764,  0.29614239, ...,  1.29198186,\n",
       "        -0.54397773, -0.79513438],\n",
       "       ...,\n",
       "       [-1.01641959,  0.18809052,  1.13315371, ...,  2.21504423,\n",
       "         0.28082874,  1.4507507 ],\n",
       "       [ 1.06989553,  0.67538765,  0.37932364, ...,  1.29198186,\n",
       "        -0.95638097, -1.41707178],\n",
       "       [ 1.23680074,  0.02470453, -0.7141632 , ..., -0.55414289,\n",
       "         0.69323197, -0.31140528]])"
      ]
     },
     "execution_count": 132,
     "metadata": {},
     "output_type": "execute_result"
    }
   ],
   "source": [
    "X_scaled"
   ]
  },
  {
   "cell_type": "code",
   "execution_count": null,
   "id": "95fd59b3",
   "metadata": {},
   "outputs": [],
   "source": [
    "from sklearn.cluster import KMeans"
   ]
  },
  {
   "cell_type": "code",
   "execution_count": null,
   "id": "f59ebc13",
   "metadata": {},
   "outputs": [],
   "source": [
    "wcss = []"
   ]
  },
  {
   "cell_type": "code",
   "execution_count": null,
   "id": "4053e2e1",
   "metadata": {},
   "outputs": [],
   "source": [
    "for i in range(2,10): \n",
    "    kmeans = KMeans(n_clusters=i)\n",
    "    kmeans.fit(X_scaled)\n",
    "    wcss.append(kmeans.inertia_)"
   ]
  },
  {
   "cell_type": "code",
   "execution_count": null,
   "id": "dc6db7de",
   "metadata": {},
   "outputs": [
    {
     "data": {
      "image/png": "[encoded data removed]",
      "text/plain": [
       "<Figure size 640x480 with 1 Axes>"
      ]
     },
     "metadata": {},
     "output_type": "display_data"
    }
   ],
   "source": [
    "plt.plot(range(2,10),wcss,marker='o')\n",
    "plt.title('Elbow Method for optimal K')\n",
    "plt.xlabel('Number of Clusters')\n",
    "plt.ylabel('WCSS')\n",
    "plt.show()"
   ]
  },
  {
   "cell_type": "code",
   "execution_count": 388,
   "id": "da9bbc76",
   "metadata": {},
   "outputs": [],
   "source": [
    "kmeans = KMeans(n_clusters=6)\n",
    "df['Cluster'] = kmeans.fit_predict(X_scaled)\n"
   ]
  },
  {
   "cell_type": "code",
   "execution_count": 389,
   "id": "8ab85618",
   "metadata": {},
   "outputs": [
    {
     "data": {
      "text/plain": [
       "0       4\n",
       "1       2\n",
       "2       3\n",
       "3       2\n",
       "4       4\n",
       "       ..\n",
       "2235    4\n",
       "2236    4\n",
       "2237    5\n",
       "2238    3\n",
       "2239    2\n",
       "Name: Cluster, Length: 2216, dtype: int32"
      ]
     },
     "execution_count": 389,
     "metadata": {},
     "output_type": "execute_result"
    }
   ],
   "source": [
    "df['Cluster']"
   ]
  },
  {
   "cell_type": "code",
   "execution_count": 390,
   "id": "998eeb93",
   "metadata": {},
   "outputs": [
    {
     "data": {
      "text/html": [
       "<div>\n",
       "<style scoped>\n",
       "    .dataframe tbody tr th:only-of-type {\n",
       "        vertical-align: middle;\n",
       "    }\n",
       "\n",
       "    .dataframe tbody tr th {\n",
       "        vertical-align: top;\n",
       "    }\n",
       "\n",
       "    .dataframe thead th {\n",
       "        text-align: right;\n",
       "    }\n",
       "</style>\n",
       "<table border=\"1\" class=\"dataframe\">\n",
       "  <thead>\n",
       "    <tr style=\"text-align: right;\">\n",
       "      <th></th>\n",
       "      <th>ID</th>\n",
       "      <th>Year_Birth</th>\n",
       "      <th>Education</th>\n",
       "      <th>Marital_Status</th>\n",
       "      <th>Income</th>\n",
       "      <th>Kidhome</th>\n",
       "      <th>Teenhome</th>\n",
       "      <th>Dt_Customer</th>\n",
       "      <th>Recency</th>\n",
       "      <th>MntWines</th>\n",
       "      <th>...</th>\n",
       "      <th>Z_CostContact</th>\n",
       "      <th>Z_Revenue</th>\n",
       "      <th>Response</th>\n",
       "      <th>Age</th>\n",
       "      <th>Total_Children</th>\n",
       "      <th>Total_Spending</th>\n",
       "      <th>Customer_Since</th>\n",
       "      <th>AcceptedAny</th>\n",
       "      <th>AgeGroup</th>\n",
       "      <th>Cluster</th>\n",
       "    </tr>\n",
       "  </thead>\n",
       "  <tbody>\n",
       "    <tr>\n",
       "      <th>0</th>\n",
       "      <td>5524</td>\n",
       "      <td>1957</td>\n",
       "      <td>Graduation</td>\n",
       "      <td>Single</td>\n",
       "      <td>58138.0</td>\n",
       "      <td>0</td>\n",
       "      <td>0</td>\n",
       "      <td>2012-09-04</td>\n",
       "      <td>58</td>\n",
       "      <td>635</td>\n",
       "      <td>...</td>\n",
       "      <td>3</td>\n",
       "      <td>11</td>\n",
       "      <td>1</td>\n",
       "      <td>68</td>\n",
       "      <td>0</td>\n",
       "      <td>1529</td>\n",
       "      <td>4797</td>\n",
       "      <td>1</td>\n",
       "      <td>60-69</td>\n",
       "      <td>4</td>\n",
       "    </tr>\n",
       "    <tr>\n",
       "      <th>1</th>\n",
       "      <td>2174</td>\n",
       "      <td>1954</td>\n",
       "      <td>Graduation</td>\n",
       "      <td>Single</td>\n",
       "      <td>46344.0</td>\n",
       "      <td>1</td>\n",
       "      <td>1</td>\n",
       "      <td>2014-03-08</td>\n",
       "      <td>38</td>\n",
       "      <td>11</td>\n",
       "      <td>...</td>\n",
       "      <td>3</td>\n",
       "      <td>11</td>\n",
       "      <td>0</td>\n",
       "      <td>71</td>\n",
       "      <td>2</td>\n",
       "      <td>21</td>\n",
       "      <td>4247</td>\n",
       "      <td>0</td>\n",
       "      <td>70+</td>\n",
       "      <td>2</td>\n",
       "    </tr>\n",
       "    <tr>\n",
       "      <th>2</th>\n",
       "      <td>4141</td>\n",
       "      <td>1965</td>\n",
       "      <td>Graduation</td>\n",
       "      <td>Together</td>\n",
       "      <td>71613.0</td>\n",
       "      <td>0</td>\n",
       "      <td>0</td>\n",
       "      <td>2013-08-21</td>\n",
       "      <td>26</td>\n",
       "      <td>426</td>\n",
       "      <td>...</td>\n",
       "      <td>3</td>\n",
       "      <td>11</td>\n",
       "      <td>0</td>\n",
       "      <td>60</td>\n",
       "      <td>0</td>\n",
       "      <td>734</td>\n",
       "      <td>4446</td>\n",
       "      <td>0</td>\n",
       "      <td>50-59</td>\n",
       "      <td>3</td>\n",
       "    </tr>\n",
       "    <tr>\n",
       "      <th>3</th>\n",
       "      <td>6182</td>\n",
       "      <td>1984</td>\n",
       "      <td>Graduation</td>\n",
       "      <td>Together</td>\n",
       "      <td>26646.0</td>\n",
       "      <td>1</td>\n",
       "      <td>0</td>\n",
       "      <td>2014-02-10</td>\n",
       "      <td>26</td>\n",
       "      <td>11</td>\n",
       "      <td>...</td>\n",
       "      <td>3</td>\n",
       "      <td>11</td>\n",
       "      <td>0</td>\n",
       "      <td>41</td>\n",
       "      <td>1</td>\n",
       "      <td>48</td>\n",
       "      <td>4273</td>\n",
       "      <td>0</td>\n",
       "      <td>40-49</td>\n",
       "      <td>2</td>\n",
       "    </tr>\n",
       "    <tr>\n",
       "      <th>4</th>\n",
       "      <td>5324</td>\n",
       "      <td>1981</td>\n",
       "      <td>PhD</td>\n",
       "      <td>Married</td>\n",
       "      <td>58293.0</td>\n",
       "      <td>1</td>\n",
       "      <td>0</td>\n",
       "      <td>2014-01-19</td>\n",
       "      <td>94</td>\n",
       "      <td>173</td>\n",
       "      <td>...</td>\n",
       "      <td>3</td>\n",
       "      <td>11</td>\n",
       "      <td>0</td>\n",
       "      <td>44</td>\n",
       "      <td>1</td>\n",
       "      <td>407</td>\n",
       "      <td>4295</td>\n",
       "      <td>0</td>\n",
       "      <td>40-49</td>\n",
       "      <td>4</td>\n",
       "    </tr>\n",
       "  </tbody>\n",
       "</table>\n",
       "<p>5 rows × 36 columns</p>\n",
       "</div>"
      ],
      "text/plain": [
       "     ID  Year_Birth   Education Marital_Status   Income  Kidhome  Teenhome  \\\n",
       "0  5524        1957  Graduation         Single  58138.0        0         0   \n",
       "1  2174        1954  Graduation         Single  46344.0        1         1   \n",
       "2  4141        1965  Graduation       Together  71613.0        0         0   \n",
       "3  6182        1984  Graduation       Together  26646.0        1         0   \n",
       "4  5324        1981         PhD        Married  58293.0        1         0   \n",
       "\n",
       "  Dt_Customer  Recency  MntWines  ...  Z_CostContact  Z_Revenue  Response  \\\n",
       "0  2012-09-04       58       635  ...              3         11         1   \n",
       "1  2014-03-08       38        11  ...              3         11         0   \n",
       "2  2013-08-21       26       426  ...              3         11         0   \n",
       "3  2014-02-10       26        11  ...              3         11         0   \n",
       "4  2014-01-19       94       173  ...              3         11         0   \n",
       "\n",
       "   Age  Total_Children  Total_Spending  Customer_Since  AcceptedAny  AgeGroup  \\\n",
       "0   68               0            1529            4797            1     60-69   \n",
       "1   71               2              21            4247            0       70+   \n",
       "2   60               0             734            4446            0     50-59   \n",
       "3   41               1              48            4273            0     40-49   \n",
       "4   44               1             407            4295            0     40-49   \n",
       "\n",
       "   Cluster  \n",
       "0        4  \n",
       "1        2  \n",
       "2        3  \n",
       "3        2  \n",
       "4        4  \n",
       "\n",
       "[5 rows x 36 columns]"
      ]
     },
     "execution_count": 390,
     "metadata": {},
     "output_type": "execute_result"
    }
   ],
   "source": [
    "df.head()"
   ]
  },
  {
   "cell_type": "code",
   "execution_count": 391,
   "id": "4550eb45",
   "metadata": {},
   "outputs": [],
   "source": [
    "cluster_summary = df.groupby('Cluster')[features].mean()"
   ]
  },
  {
   "cell_type": "code",
   "execution_count": 392,
   "id": "83920f55",
   "metadata": {},
   "outputs": [
    {
     "data": {
      "text/html": [
       "<div>\n",
       "<style scoped>\n",
       "    .dataframe tbody tr th:only-of-type {\n",
       "        vertical-align: middle;\n",
       "    }\n",
       "\n",
       "    .dataframe tbody tr th {\n",
       "        vertical-align: top;\n",
       "    }\n",
       "\n",
       "    .dataframe thead th {\n",
       "        text-align: right;\n",
       "    }\n",
       "</style>\n",
       "<table border=\"1\" class=\"dataframe\">\n",
       "  <thead>\n",
       "    <tr style=\"text-align: right;\">\n",
       "      <th></th>\n",
       "      <th>Age</th>\n",
       "      <th>Income</th>\n",
       "      <th>Total_Spending</th>\n",
       "      <th>NumWebPurchases</th>\n",
       "      <th>NumStorePurchases</th>\n",
       "      <th>NumWebVisitsMonth</th>\n",
       "      <th>Recency</th>\n",
       "    </tr>\n",
       "    <tr>\n",
       "      <th>Cluster</th>\n",
       "      <th></th>\n",
       "      <th></th>\n",
       "      <th></th>\n",
       "      <th></th>\n",
       "      <th></th>\n",
       "      <th></th>\n",
       "      <th></th>\n",
       "    </tr>\n",
       "  </thead>\n",
       "  <tbody>\n",
       "    <tr>\n",
       "      <th>0</th>\n",
       "      <td>54.612086</td>\n",
       "      <td>35004.109162</td>\n",
       "      <td>91.339181</td>\n",
       "      <td>2.179337</td>\n",
       "      <td>3.276803</td>\n",
       "      <td>6.483431</td>\n",
       "      <td>74.419103</td>\n",
       "    </tr>\n",
       "    <tr>\n",
       "      <th>1</th>\n",
       "      <td>70.318021</td>\n",
       "      <td>73728.445230</td>\n",
       "      <td>1101.257951</td>\n",
       "      <td>4.268551</td>\n",
       "      <td>8.035336</td>\n",
       "      <td>2.381625</td>\n",
       "      <td>52.042403</td>\n",
       "    </tr>\n",
       "    <tr>\n",
       "      <th>2</th>\n",
       "      <td>52.374312</td>\n",
       "      <td>34111.812844</td>\n",
       "      <td>93.873394</td>\n",
       "      <td>2.207339</td>\n",
       "      <td>3.260550</td>\n",
       "      <td>6.524771</td>\n",
       "      <td>24.198165</td>\n",
       "    </tr>\n",
       "    <tr>\n",
       "      <th>3</th>\n",
       "      <td>58.373702</td>\n",
       "      <td>62225.155709</td>\n",
       "      <td>858.923875</td>\n",
       "      <td>7.342561</td>\n",
       "      <td>8.605536</td>\n",
       "      <td>5.826990</td>\n",
       "      <td>22.432526</td>\n",
       "    </tr>\n",
       "    <tr>\n",
       "      <th>4</th>\n",
       "      <td>61.142336</td>\n",
       "      <td>57367.886861</td>\n",
       "      <td>723.616788</td>\n",
       "      <td>7.291971</td>\n",
       "      <td>7.083942</td>\n",
       "      <td>6.383212</td>\n",
       "      <td>71.894161</td>\n",
       "    </tr>\n",
       "    <tr>\n",
       "      <th>5</th>\n",
       "      <td>46.189103</td>\n",
       "      <td>79053.980769</td>\n",
       "      <td>1255.378205</td>\n",
       "      <td>4.500000</td>\n",
       "      <td>8.637821</td>\n",
       "      <td>2.557692</td>\n",
       "      <td>52.362179</td>\n",
       "    </tr>\n",
       "  </tbody>\n",
       "</table>\n",
       "</div>"
      ],
      "text/plain": [
       "               Age        Income  Total_Spending  NumWebPurchases  \\\n",
       "Cluster                                                             \n",
       "0        54.612086  35004.109162       91.339181         2.179337   \n",
       "1        70.318021  73728.445230     1101.257951         4.268551   \n",
       "2        52.374312  34111.812844       93.873394         2.207339   \n",
       "3        58.373702  62225.155709      858.923875         7.342561   \n",
       "4        61.142336  57367.886861      723.616788         7.291971   \n",
       "5        46.189103  79053.980769     1255.378205         4.500000   \n",
       "\n",
       "         NumStorePurchases  NumWebVisitsMonth    Recency  \n",
       "Cluster                                                   \n",
       "0                 3.276803           6.483431  74.419103  \n",
       "1                 8.035336           2.381625  52.042403  \n",
       "2                 3.260550           6.524771  24.198165  \n",
       "3                 8.605536           5.826990  22.432526  \n",
       "4                 7.083942           6.383212  71.894161  \n",
       "5                 8.637821           2.557692  52.362179  "
      ]
     },
     "execution_count": 392,
     "metadata": {},
     "output_type": "execute_result"
    }
   ],
   "source": [
    "cluster_summary"
   ]
  },
  {
   "cell_type": "code",
   "execution_count": 393,
   "id": "af8d5162",
   "metadata": {},
   "outputs": [
    {
     "data": {
      "text/plain": [
       "Cluster\n",
       "2    545\n",
       "0    513\n",
       "5    312\n",
       "3    289\n",
       "1    283\n",
       "4    274\n",
       "Name: count, dtype: int64"
      ]
     },
     "execution_count": 393,
     "metadata": {},
     "output_type": "execute_result"
    }
   ],
   "source": [
    "df['Cluster'].value_counts()"
   ]
  },
  {
   "cell_type": "code",
   "execution_count": 394,
   "id": "44c14ea2",
   "metadata": {},
   "outputs": [],
   "source": [
    "from sklearn.decomposition import PCA\n",
    "pca = PCA(n_components = 2)\n",
    "pca_data = pca.fit_transform(X_scaled)\n",
    "df['PCA1'], df['PCA2'] = pca_data[:,0],pca_data[:,1]"
   ]
  },
  {
   "cell_type": "code",
   "execution_count": 395,
   "id": "166c1b7c",
   "metadata": {},
   "outputs": [
    {
     "data": {
      "text/plain": [
       "0       1.101356\n",
       "1      -1.321671\n",
       "2       1.889546\n",
       "3      -1.770520\n",
       "4       0.038601\n",
       "          ...   \n",
       "2235    1.092970\n",
       "2236    0.532004\n",
       "2237    1.194837\n",
       "2238    1.882809\n",
       "2239   -0.836873\n",
       "Name: PCA1, Length: 2216, dtype: float64"
      ]
     },
     "execution_count": 395,
     "metadata": {},
     "output_type": "execute_result"
    }
   ],
   "source": [
    "df['PCA1']"
   ]
  },
  {
   "cell_type": "code",
   "execution_count": 396,
   "id": "ff15b34c",
   "metadata": {},
   "outputs": [
    {
     "data": {
      "text/plain": [
       "0      -0.206914\n",
       "1       0.253672\n",
       "2      -1.019815\n",
       "3      -0.699513\n",
       "4       1.244852\n",
       "          ...   \n",
       "2235   -0.525512\n",
       "2236   -0.153377\n",
       "2237    1.164100\n",
       "2238   -1.175283\n",
       "2239   -0.171023\n",
       "Name: PCA2, Length: 2216, dtype: float64"
      ]
     },
     "execution_count": 396,
     "metadata": {},
     "output_type": "execute_result"
    }
   ],
   "source": [
    "df['PCA2']"
   ]
  },
  {
   "cell_type": "code",
   "execution_count": 397,
   "id": "b93cd374",
   "metadata": {},
   "outputs": [
    {
     "data": {
      "image/png": "[encoded data removed]",
      "text/plain": [
       "<Figure size 640x480 with 1 Axes>"
      ]
     },
     "metadata": {},
     "output_type": "display_data"
    }
   ],
   "source": [
    "sns.scatterplot(x='PCA1',y='PCA2',hue='Cluster',data=df,palette='Set1')\n",
    "plt.title('Customer Segmentation (PCA)')\n",
    "plt.show()"
   ]
  },
  {
   "cell_type": "code",
   "execution_count": 401,
   "id": "298e9b1d",
   "metadata": {},
   "outputs": [
    {
     "data": {
      "text/plain": [
       "['scaler.pkl']"
      ]
     },
     "execution_count": 401,
     "metadata": {},
     "output_type": "execute_result"
    }
   ],
   "source": [
    "import joblib\n",
    "joblib.dump(kmeans,'kmeans_model.pkl')\n",
    "joblib.dump(scaler,'scaler.pkl')"
   ]
  }
 ],
 "metadata": {
  "kernelspec": {
   "display_name": "Python 3",
   "language": "python",
   "name": "python3"
  },
  "language_info": {
   "codemirror_mode": {
    "name": "ipython",
    "version": 3
   },
   "file_extension": ".py",
   "mimetype": "text/x-python",
   "name": "python",
   "nbconvert_exporter": "python",
   "pygments_lexer": "ipython3",
   "version": "3.12.4"
  },
  "widgets": {
   "application/vnd.jupyter.widget-state+json": {
    "state": {},
    "version_major": 2,
    "version_minor": 0
   }
  }
 },
 "nbformat": 4,
 "nbformat_minor": 5
}
